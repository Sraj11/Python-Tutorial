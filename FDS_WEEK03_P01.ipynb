{
  "nbformat": 4,
  "nbformat_minor": 0,
  "metadata": {
    "colab": {
      "name": "FDS_WEEK03_P01.ipynb",
      "provenance": [],
      "collapsed_sections": []
    },
    "kernelspec": {
      "name": "python3",
      "display_name": "Python 3"
    }
  },
  "cells": [
    {
      "cell_type": "markdown",
      "metadata": {
        "id": "zuBMXt4SzxFd",
        "colab_type": "text"
      },
      "source": [
        "#Printing Basic type"
      ]
    },
    {
      "cell_type": "code",
      "metadata": {
        "id": "dZzwfNVTwAf0",
        "colab_type": "code",
        "colab": {
          "base_uri": "https://localhost:8080/",
          "height": 34
        },
        "outputId": "3fca6ac9-60af-4bd1-a176-2c113d4a8097"
      },
      "source": [
        "print(\"Hello world\")"
      ],
      "execution_count": 2,
      "outputs": [
        {
          "output_type": "stream",
          "text": [
            "Hello world\n"
          ],
          "name": "stdout"
        }
      ]
    },
    {
      "cell_type": "code",
      "metadata": {
        "id": "lzoloZ8gxS6G",
        "colab_type": "code",
        "colab": {
          "base_uri": "https://localhost:8080/",
          "height": 51
        },
        "outputId": "2d950305-3c68-400d-bfdc-b42f015ac6f6"
      },
      "source": [
        "print(\"hello world\")\n",
        "print(\"Namskar from padhAI\")"
      ],
      "execution_count": 6,
      "outputs": [
        {
          "output_type": "stream",
          "text": [
            "hello world\n",
            "Namskar from padhAI\n"
          ],
          "name": "stdout"
        }
      ]
    },
    {
      "cell_type": "code",
      "metadata": {
        "id": "8PqCnWAQxyF9",
        "colab_type": "code",
        "colab": {
          "base_uri": "https://localhost:8080/",
          "height": 51
        },
        "outputId": "5a3f6c79-aae1-44c7-9e2d-76160e3e7ed5"
      },
      "source": [
        "print('PadhAI')\n",
        "print('Padh' + 'AI')  #Concatenation of the string"
      ],
      "execution_count": 9,
      "outputs": [
        {
          "output_type": "stream",
          "text": [
            "PadhAI\n",
            "PadhAI\n"
          ],
          "name": "stdout"
        }
      ]
    },
    {
      "cell_type": "code",
      "metadata": {
        "id": "c6H3z_ToyBYy",
        "colab_type": "code",
        "colab": {
          "base_uri": "https://localhost:8080/",
          "height": 34
        },
        "outputId": "406a617f-1d13-494e-fcd5-f8a3841b9082"
      },
      "source": [
        "print(1729)"
      ],
      "execution_count": 10,
      "outputs": [
        {
          "output_type": "stream",
          "text": [
            "1729\n"
          ],
          "name": "stdout"
        }
      ]
    },
    {
      "cell_type": "code",
      "metadata": {
        "id": "_4Rkko4fyRa0",
        "colab_type": "code",
        "colab": {
          "base_uri": "https://localhost:8080/",
          "height": 34
        },
        "outputId": "c85a90df-811f-4b93-9b17-797de9d4c1a9"
      },
      "source": [
        "print(1000+729)"
      ],
      "execution_count": 11,
      "outputs": [
        {
          "output_type": "stream",
          "text": [
            "1729\n"
          ],
          "name": "stdout"
        }
      ]
    },
    {
      "cell_type": "code",
      "metadata": {
        "id": "-PylvHegyYUn",
        "colab_type": "code",
        "colab": {
          "base_uri": "https://localhost:8080/",
          "height": 34
        },
        "outputId": "d3f6f389-f0fa-436e-b7b4-3e222eabe29e"
      },
      "source": [
        "print(55/34) #Check golden ratio"
      ],
      "execution_count": 12,
      "outputs": [
        {
          "output_type": "stream",
          "text": [
            "1.6176470588235294\n"
          ],
          "name": "stdout"
        }
      ]
    },
    {
      "cell_type": "code",
      "metadata": {
        "id": "L8VMhuVuyrAl",
        "colab_type": "code",
        "colab": {
          "base_uri": "https://localhost:8080/",
          "height": 34
        },
        "outputId": "cda7a61c-ed77-4924-d432-5e4ff188ce01"
      },
      "source": [
        "print(1.658)"
      ],
      "execution_count": 13,
      "outputs": [
        {
          "output_type": "stream",
          "text": [
            "1.658\n"
          ],
          "name": "stdout"
        }
      ]
    },
    {
      "cell_type": "code",
      "metadata": {
        "id": "wu86T1zgy2L9",
        "colab_type": "code",
        "colab": {
          "base_uri": "https://localhost:8080/",
          "height": 34
        },
        "outputId": "46303927-a94b-4b8a-b106-e1cc726b4165"
      },
      "source": [
        "print(True)"
      ],
      "execution_count": 14,
      "outputs": [
        {
          "output_type": "stream",
          "text": [
            "True\n"
          ],
          "name": "stdout"
        }
      ]
    },
    {
      "cell_type": "code",
      "metadata": {
        "id": "HV_kwq58y9Mi",
        "colab_type": "code",
        "colab": {
          "base_uri": "https://localhost:8080/",
          "height": 34
        },
        "outputId": "748a1bfc-38b9-4143-9105-f98ef250808a"
      },
      "source": [
        "print(False)"
      ],
      "execution_count": 15,
      "outputs": [
        {
          "output_type": "stream",
          "text": [
            "False\n"
          ],
          "name": "stdout"
        }
      ]
    },
    {
      "cell_type": "code",
      "metadata": {
        "id": "Yf3-9424y_0j",
        "colab_type": "code",
        "colab": {
          "base_uri": "https://localhost:8080/",
          "height": 34
        },
        "outputId": "8236b7fa-8275-4241-f662-a483734a597e"
      },
      "source": [
        "print(True or False)"
      ],
      "execution_count": 16,
      "outputs": [
        {
          "output_type": "stream",
          "text": [
            "True\n"
          ],
          "name": "stdout"
        }
      ]
    },
    {
      "cell_type": "code",
      "metadata": {
        "id": "sienGhu7zCre",
        "colab_type": "code",
        "colab": {
          "base_uri": "https://localhost:8080/",
          "height": 34
        },
        "outputId": "b2e23088-393d-480b-bbf1-64562a71f3f9"
      },
      "source": [
        "print(True and False)"
      ],
      "execution_count": 17,
      "outputs": [
        {
          "output_type": "stream",
          "text": [
            "False\n"
          ],
          "name": "stdout"
        }
      ]
    },
    {
      "cell_type": "markdown",
      "metadata": {
        "id": "wPON1oWLziHe",
        "colab_type": "text"
      },
      "source": [
        "# Variable and inputs"
      ]
    },
    {
      "cell_type": "code",
      "metadata": {
        "id": "Pw54Kf7gzE_6",
        "colab_type": "code",
        "colab": {}
      },
      "source": [
        "school='PadhAI'"
      ],
      "execution_count": 0,
      "outputs": []
    },
    {
      "cell_type": "code",
      "metadata": {
        "id": "pe7s1Bob0DiA",
        "colab_type": "code",
        "colab": {
          "base_uri": "https://localhost:8080/",
          "height": 34
        },
        "outputId": "943b7174-6ff8-48f0-b15c-c77a92e099b7"
      },
      "source": [
        "print(school)"
      ],
      "execution_count": 19,
      "outputs": [
        {
          "output_type": "stream",
          "text": [
            "PadhAI\n"
          ],
          "name": "stdout"
        }
      ]
    },
    {
      "cell_type": "code",
      "metadata": {
        "id": "_hforZt40FSJ",
        "colab_type": "code",
        "colab": {
          "base_uri": "https://localhost:8080/",
          "height": 34
        },
        "outputId": "147f2c9d-7e19-4fea-e9b1-0f38f502ad1d"
      },
      "source": [
        "print(type(school))"
      ],
      "execution_count": 20,
      "outputs": [
        {
          "output_type": "stream",
          "text": [
            "<class 'str'>\n"
          ],
          "name": "stdout"
        }
      ]
    },
    {
      "cell_type": "code",
      "metadata": {
        "id": "14z18u650I7l",
        "colab_type": "code",
        "colab": {
          "base_uri": "https://localhost:8080/",
          "height": 34
        },
        "outputId": "1be6eab8-827a-4077-f1cc-f755ebab5f60"
      },
      "source": [
        "print(id(school))"
      ],
      "execution_count": 21,
      "outputs": [
        {
          "output_type": "stream",
          "text": [
            "139700001942808\n"
          ],
          "name": "stdout"
        }
      ]
    },
    {
      "cell_type": "code",
      "metadata": {
        "id": "jOBRLNgk0Po2",
        "colab_type": "code",
        "colab": {}
      },
      "source": [
        "another_school='PadhAI'"
      ],
      "execution_count": 0,
      "outputs": []
    },
    {
      "cell_type": "code",
      "metadata": {
        "id": "DDXUFNCF0dS8",
        "colab_type": "code",
        "colab": {
          "base_uri": "https://localhost:8080/",
          "height": 34
        },
        "outputId": "866cae2c-bee5-4115-bb9b-0c3338254f63"
      },
      "source": [
        "print(another_school)"
      ],
      "execution_count": 23,
      "outputs": [
        {
          "output_type": "stream",
          "text": [
            "PadhAI\n"
          ],
          "name": "stdout"
        }
      ]
    },
    {
      "cell_type": "code",
      "metadata": {
        "id": "QJliZo-A0f8A",
        "colab_type": "code",
        "colab": {
          "base_uri": "https://localhost:8080/",
          "height": 34
        },
        "outputId": "6f4a924b-1baf-4786-93b9-5df8cc7def1d"
      },
      "source": [
        "print(id(another_school))"
      ],
      "execution_count": 24,
      "outputs": [
        {
          "output_type": "stream",
          "text": [
            "139700001942808\n"
          ],
          "name": "stdout"
        }
      ]
    },
    {
      "cell_type": "code",
      "metadata": {
        "id": "3buC2-F40i5v",
        "colab_type": "code",
        "colab": {}
      },
      "source": [
        "another_school='IIT Madras'"
      ],
      "execution_count": 0,
      "outputs": []
    },
    {
      "cell_type": "code",
      "metadata": {
        "id": "135kDh0p0uB1",
        "colab_type": "code",
        "colab": {
          "base_uri": "https://localhost:8080/",
          "height": 34
        },
        "outputId": "86a543db-67f0-4ab5-e382-c812aa87a735"
      },
      "source": [
        "print(id(another_school))"
      ],
      "execution_count": 26,
      "outputs": [
        {
          "output_type": "stream",
          "text": [
            "139700001957232\n"
          ],
          "name": "stdout"
        }
      ]
    },
    {
      "cell_type": "code",
      "metadata": {
        "id": "g879ZvYI0xOO",
        "colab_type": "code",
        "colab": {
          "base_uri": "https://localhost:8080/",
          "height": 34
        },
        "outputId": "3975c757-43e8-48d2-bc5e-82279ae9aca6"
      },
      "source": [
        "print(\"I am studying at \" +school)"
      ],
      "execution_count": 27,
      "outputs": [
        {
          "output_type": "stream",
          "text": [
            "I am studying at PadhAI\n"
          ],
          "name": "stdout"
        }
      ]
    },
    {
      "cell_type": "code",
      "metadata": {
        "id": "ua6G0U9S1JFE",
        "colab_type": "code",
        "colab": {}
      },
      "source": [
        "r_no=1729"
      ],
      "execution_count": 0,
      "outputs": []
    },
    {
      "cell_type": "code",
      "metadata": {
        "id": "JB3Hi41L1fUx",
        "colab_type": "code",
        "colab": {
          "base_uri": "https://localhost:8080/",
          "height": 34
        },
        "outputId": "ce490b7f-d580-4160-bea4-37f34275ad19"
      },
      "source": [
        "print(type(r_no))"
      ],
      "execution_count": 29,
      "outputs": [
        {
          "output_type": "stream",
          "text": [
            "<class 'int'>\n"
          ],
          "name": "stdout"
        }
      ]
    },
    {
      "cell_type": "code",
      "metadata": {
        "id": "-nLlf9wY1hwK",
        "colab_type": "code",
        "colab": {}
      },
      "source": [
        "golden_ratio=55/34"
      ],
      "execution_count": 0,
      "outputs": []
    },
    {
      "cell_type": "code",
      "metadata": {
        "id": "Hx5w-oQv1mNw",
        "colab_type": "code",
        "colab": {
          "base_uri": "https://localhost:8080/",
          "height": 34
        },
        "outputId": "e68fd501-6b42-4e10-e901-f6ab02fd0870"
      },
      "source": [
        "print(type(golden_ratio))"
      ],
      "execution_count": 31,
      "outputs": [
        {
          "output_type": "stream",
          "text": [
            "<class 'float'>\n"
          ],
          "name": "stdout"
        }
      ]
    },
    {
      "cell_type": "code",
      "metadata": {
        "id": "Zd6vjqtD1oE6",
        "colab_type": "code",
        "colab": {}
      },
      "source": [
        "is_good=True"
      ],
      "execution_count": 0,
      "outputs": []
    },
    {
      "cell_type": "code",
      "metadata": {
        "id": "YgeeR3sB1uK5",
        "colab_type": "code",
        "colab": {
          "base_uri": "https://localhost:8080/",
          "height": 34
        },
        "outputId": "ab2a19e9-5bf0-4783-fe6b-38b791cd5094"
      },
      "source": [
        "print(type(is_good))"
      ],
      "execution_count": 34,
      "outputs": [
        {
          "output_type": "stream",
          "text": [
            "<class 'bool'>\n"
          ],
          "name": "stdout"
        }
      ]
    },
    {
      "cell_type": "code",
      "metadata": {
        "id": "VI7B7y6m1x1N",
        "colab_type": "code",
        "colab": {
          "base_uri": "https://localhost:8080/",
          "height": 34
        },
        "outputId": "b57940f1-8289-4203-9fb7-ed5e1dc78c8e"
      },
      "source": [
        "my_name=input('what is your name')"
      ],
      "execution_count": 35,
      "outputs": [
        {
          "output_type": "stream",
          "text": [
            "what is your nameshubhamraj\n"
          ],
          "name": "stdout"
        }
      ]
    },
    {
      "cell_type": "code",
      "metadata": {
        "id": "V7jfNsPa19mf",
        "colab_type": "code",
        "colab": {
          "base_uri": "https://localhost:8080/",
          "height": 34
        },
        "outputId": "24268400-cc67-45ed-d33e-18d9b415235a"
      },
      "source": [
        "print(my_name,type(my_name))"
      ],
      "execution_count": 38,
      "outputs": [
        {
          "output_type": "stream",
          "text": [
            "shubhamraj <class 'str'>\n"
          ],
          "name": "stdout"
        }
      ]
    },
    {
      "cell_type": "code",
      "metadata": {
        "id": "A5buhYlX2B4I",
        "colab_type": "code",
        "colab": {
          "base_uri": "https://localhost:8080/",
          "height": 34
        },
        "outputId": "37b31e45-cd97-49d7-9fff-282600872e5b"
      },
      "source": [
        "print(my_name + \"studing in the \"  +school)"
      ],
      "execution_count": 41,
      "outputs": [
        {
          "output_type": "stream",
          "text": [
            "shubhamrajstuding in the PadhAI\n"
          ],
          "name": "stdout"
        }
      ]
    },
    {
      "cell_type": "code",
      "metadata": {
        "id": "zhCXQf7r2PUJ",
        "colab_type": "code",
        "colab": {
          "base_uri": "https://localhost:8080/",
          "height": 34
        },
        "outputId": "d34aec6f-ca75-4f35-fec3-7886e19a7458"
      },
      "source": [
        "hour_per_day=input(\"how many hour do you study?\")"
      ],
      "execution_count": 61,
      "outputs": [
        {
          "output_type": "stream",
          "text": [
            "how many hour do you study?2.5\n"
          ],
          "name": "stdout"
        }
      ]
    },
    {
      "cell_type": "code",
      "metadata": {
        "id": "2IaQCiuT2ZNz",
        "colab_type": "code",
        "colab": {
          "base_uri": "https://localhost:8080/",
          "height": 34
        },
        "outputId": "99292b39-7af2-46a1-ede0-3b230a77b1c6"
      },
      "source": [
        "print(my_name + ' studies for ' +hour_per_day +' hours')"
      ],
      "execution_count": 46,
      "outputs": [
        {
          "output_type": "stream",
          "text": [
            "shubhamraj studies for 2 hours\n"
          ],
          "name": "stdout"
        }
      ]
    },
    {
      "cell_type": "code",
      "metadata": {
        "id": "MnJTYFi92is_",
        "colab_type": "code",
        "colab": {}
      },
      "source": [
        "hours_per_week=7*hour_per_day"
      ],
      "execution_count": 0,
      "outputs": []
    },
    {
      "cell_type": "code",
      "metadata": {
        "id": "90RBlWrL2w41",
        "colab_type": "code",
        "colab": {
          "base_uri": "https://localhost:8080/",
          "height": 34
        },
        "outputId": "37ab3e13-861b-4217-886b-21dcb268c3cb"
      },
      "source": [
        "print(my_name + ' studies for ' + hours_per_week +' hours')"
      ],
      "execution_count": 49,
      "outputs": [
        {
          "output_type": "stream",
          "text": [
            "shubhamraj studies for 2222222 hours\n"
          ],
          "name": "stdout"
        }
      ]
    },
    {
      "cell_type": "code",
      "metadata": {
        "id": "UFATQP8d23RU",
        "colab_type": "code",
        "colab": {
          "base_uri": "https://localhost:8080/",
          "height": 34
        },
        "outputId": "a17a55c2-8bcd-474a-cec0-93cc7663b2da"
      },
      "source": [
        "print(type(hour_per_day))"
      ],
      "execution_count": 50,
      "outputs": [
        {
          "output_type": "stream",
          "text": [
            "<class 'str'>\n"
          ],
          "name": "stdout"
        }
      ]
    },
    {
      "cell_type": "code",
      "metadata": {
        "id": "izOjIxD92-G1",
        "colab_type": "code",
        "colab": {}
      },
      "source": [
        "# hours_per_day_int=int(hour_per_day)\n",
        "hours_per_day_int=float(hour_per_day)"
      ],
      "execution_count": 0,
      "outputs": []
    },
    {
      "cell_type": "code",
      "metadata": {
        "id": "ItQL5Ee53IiU",
        "colab_type": "code",
        "colab": {
          "base_uri": "https://localhost:8080/",
          "height": 34
        },
        "outputId": "ac794c67-1070-451a-b091-0ca81c973067"
      },
      "source": [
        "# print(my_name + ' studies for ' + hours_per_week +' hours')\n",
        "print(hours_per_day_int,type(hours_per_day_int))"
      ],
      "execution_count": 64,
      "outputs": [
        {
          "output_type": "stream",
          "text": [
            "2.5 <class 'float'>\n"
          ],
          "name": "stdout"
        }
      ]
    },
    {
      "cell_type": "code",
      "metadata": {
        "id": "H0TKQe_x3gaf",
        "colab_type": "code",
        "colab": {}
      },
      "source": [
        "hour_per_week_int=hours_per_day_int*7"
      ],
      "execution_count": 0,
      "outputs": []
    },
    {
      "cell_type": "code",
      "metadata": {
        "id": "RI-cFAna4Asd",
        "colab_type": "code",
        "colab": {
          "base_uri": "https://localhost:8080/",
          "height": 163
        },
        "outputId": "71a4647c-61ae-449f-fe21-bd9b7aecdec9"
      },
      "source": [
        "print(my_name + ' studies for ' + hour_per_week_int +' hours')"
      ],
      "execution_count": 66,
      "outputs": [
        {
          "output_type": "error",
          "ename": "TypeError",
          "evalue": "ignored",
          "traceback": [
            "\u001b[0;31m---------------------------------------------------------------------------\u001b[0m",
            "\u001b[0;31mTypeError\u001b[0m                                 Traceback (most recent call last)",
            "\u001b[0;32m<ipython-input-66-65389e4cf062>\u001b[0m in \u001b[0;36m<module>\u001b[0;34m()\u001b[0m\n\u001b[0;32m----> 1\u001b[0;31m \u001b[0mprint\u001b[0m\u001b[0;34m(\u001b[0m\u001b[0mmy_name\u001b[0m \u001b[0;34m+\u001b[0m \u001b[0;34m' studies for '\u001b[0m \u001b[0;34m+\u001b[0m \u001b[0mhour_per_week_int\u001b[0m \u001b[0;34m+\u001b[0m\u001b[0;34m' hours'\u001b[0m\u001b[0;34m)\u001b[0m\u001b[0;34m\u001b[0m\u001b[0;34m\u001b[0m\u001b[0m\n\u001b[0m",
            "\u001b[0;31mTypeError\u001b[0m: must be str, not float"
          ]
        }
      ]
    },
    {
      "cell_type": "code",
      "metadata": {
        "id": "0Z4uNQop4GJf",
        "colab_type": "code",
        "colab": {
          "base_uri": "https://localhost:8080/",
          "height": 34
        },
        "outputId": "82a97193-da99-43af-e923-030e4089238a"
      },
      "source": [
        "print(my_name + ' studies for ' + str(hour_per_week_int) +' hours')"
      ],
      "execution_count": 67,
      "outputs": [
        {
          "output_type": "stream",
          "text": [
            "shubhamraj studies for 17.5 hours\n"
          ],
          "name": "stdout"
        }
      ]
    },
    {
      "cell_type": "markdown",
      "metadata": {
        "id": "FkbfTEwh5JYp",
        "colab_type": "text"
      },
      "source": [
        "# String Processing"
      ]
    },
    {
      "cell_type": "code",
      "metadata": {
        "id": "BTHQFKbE5H6g",
        "colab_type": "code",
        "colab": {}
      },
      "source": [
        "topic='Foundation of Data Science'"
      ],
      "execution_count": 0,
      "outputs": []
    },
    {
      "cell_type": "code",
      "metadata": {
        "id": "pvwfaapl4UUu",
        "colab_type": "code",
        "colab": {
          "base_uri": "https://localhost:8080/",
          "height": 34
        },
        "outputId": "52b5cee3-1f80-4b82-9877-6c638d850134"
      },
      "source": [
        "print(topic)"
      ],
      "execution_count": 69,
      "outputs": [
        {
          "output_type": "stream",
          "text": [
            "Foundation of Data Science\n"
          ],
          "name": "stdout"
        }
      ]
    },
    {
      "cell_type": "code",
      "metadata": {
        "id": "TGfu9gP85TQp",
        "colab_type": "code",
        "colab": {
          "base_uri": "https://localhost:8080/",
          "height": 34
        },
        "outputId": "43e920a9-6b5a-467e-bf65-eb3bb2c28b1e"
      },
      "source": [
        "print(topic[0])"
      ],
      "execution_count": 70,
      "outputs": [
        {
          "output_type": "stream",
          "text": [
            "F\n"
          ],
          "name": "stdout"
        }
      ]
    },
    {
      "cell_type": "code",
      "metadata": {
        "id": "W-qcS92O5XoA",
        "colab_type": "code",
        "colab": {
          "base_uri": "https://localhost:8080/",
          "height": 34
        },
        "outputId": "da9850b5-ae24-4553-c2d3-7d8570406365"
      },
      "source": [
        "print(topic[3])"
      ],
      "execution_count": 71,
      "outputs": [
        {
          "output_type": "stream",
          "text": [
            "n\n"
          ],
          "name": "stdout"
        }
      ]
    },
    {
      "cell_type": "code",
      "metadata": {
        "id": "vpA3ug5x5bxI",
        "colab_type": "code",
        "colab": {
          "base_uri": "https://localhost:8080/",
          "height": 34
        },
        "outputId": "7755eb70-71b7-4724-cb66-e082b6e9a489"
      },
      "source": [
        "print(topic[10])"
      ],
      "execution_count": 72,
      "outputs": [
        {
          "output_type": "stream",
          "text": [
            " \n"
          ],
          "name": "stdout"
        }
      ]
    },
    {
      "cell_type": "code",
      "metadata": {
        "id": "UKOUbKMq5eWl",
        "colab_type": "code",
        "colab": {
          "base_uri": "https://localhost:8080/",
          "height": 34
        },
        "outputId": "b1390e92-58b8-4b93-bc89-7a18529fe223"
      },
      "source": [
        "print(topic[-1])"
      ],
      "execution_count": 73,
      "outputs": [
        {
          "output_type": "stream",
          "text": [
            "e\n"
          ],
          "name": "stdout"
        }
      ]
    },
    {
      "cell_type": "code",
      "metadata": {
        "id": "EpLWUaIz5hnM",
        "colab_type": "code",
        "colab": {
          "base_uri": "https://localhost:8080/",
          "height": 34
        },
        "outputId": "b9893f5b-97fe-4749-bd5a-18def04daa5f"
      },
      "source": [
        "print(topic[-3])"
      ],
      "execution_count": 74,
      "outputs": [
        {
          "output_type": "stream",
          "text": [
            "n\n"
          ],
          "name": "stdout"
        }
      ]
    },
    {
      "cell_type": "code",
      "metadata": {
        "id": "V3vbyJ3T5jfD",
        "colab_type": "code",
        "colab": {
          "base_uri": "https://localhost:8080/",
          "height": 34
        },
        "outputId": "247e1b39-ae75-4d4a-f3d1-126b02c820a9"
      },
      "source": [
        "print(topic[0:10])"
      ],
      "execution_count": 75,
      "outputs": [
        {
          "output_type": "stream",
          "text": [
            "Foundation\n"
          ],
          "name": "stdout"
        }
      ]
    },
    {
      "cell_type": "code",
      "metadata": {
        "id": "aEeZGRvR5ogQ",
        "colab_type": "code",
        "colab": {
          "base_uri": "https://localhost:8080/",
          "height": 34
        },
        "outputId": "5cf8495a-113c-433c-f227-96a70338329d"
      },
      "source": [
        "print(topic[12:16])"
      ],
      "execution_count": 76,
      "outputs": [
        {
          "output_type": "stream",
          "text": [
            "f Da\n"
          ],
          "name": "stdout"
        }
      ]
    },
    {
      "cell_type": "code",
      "metadata": {
        "id": "1AG-CQG15zx5",
        "colab_type": "code",
        "colab": {
          "base_uri": "https://localhost:8080/",
          "height": 34
        },
        "outputId": "cddab2b8-ebf2-4ea2-be32-bfb92ce0a8b3"
      },
      "source": [
        "print(topic.lower())"
      ],
      "execution_count": 77,
      "outputs": [
        {
          "output_type": "stream",
          "text": [
            "foundation of data science\n"
          ],
          "name": "stdout"
        }
      ]
    },
    {
      "cell_type": "code",
      "metadata": {
        "id": "MwlV-vXa59MS",
        "colab_type": "code",
        "colab": {
          "base_uri": "https://localhost:8080/",
          "height": 34
        },
        "outputId": "fff75b8a-a3df-4123-e427-fc9c13a6c1c2"
      },
      "source": [
        "print(topic)"
      ],
      "execution_count": 78,
      "outputs": [
        {
          "output_type": "stream",
          "text": [
            "Foundation of Data Science\n"
          ],
          "name": "stdout"
        }
      ]
    },
    {
      "cell_type": "code",
      "metadata": {
        "id": "SQEaeFlW6NVv",
        "colab_type": "code",
        "colab": {}
      },
      "source": [
        "topic=topic.lower()"
      ],
      "execution_count": 0,
      "outputs": []
    },
    {
      "cell_type": "code",
      "metadata": {
        "id": "9IOp0p1G6RB4",
        "colab_type": "code",
        "colab": {
          "base_uri": "https://localhost:8080/",
          "height": 34
        },
        "outputId": "7121a85d-15f8-45c1-d3be-ee1917cdefe3"
      },
      "source": [
        "print(topic)"
      ],
      "execution_count": 80,
      "outputs": [
        {
          "output_type": "stream",
          "text": [
            "foundation of data science\n"
          ],
          "name": "stdout"
        }
      ]
    },
    {
      "cell_type": "code",
      "metadata": {
        "id": "4tWUqUgB6SOg",
        "colab_type": "code",
        "colab": {
          "base_uri": "https://localhost:8080/",
          "height": 34
        },
        "outputId": "0590a4df-e5d4-4a67-80cb-10d02892e8e7"
      },
      "source": [
        "print(topic.upper())"
      ],
      "execution_count": 81,
      "outputs": [
        {
          "output_type": "stream",
          "text": [
            "FOUNDATION OF DATA SCIENCE\n"
          ],
          "name": "stdout"
        }
      ]
    },
    {
      "cell_type": "code",
      "metadata": {
        "id": "5Styq7ml6VQw",
        "colab_type": "code",
        "colab": {
          "base_uri": "https://localhost:8080/",
          "height": 34
        },
        "outputId": "bc98675f-74aa-45ab-a315-663ac9c38e43"
      },
      "source": [
        "print(topic.islower())"
      ],
      "execution_count": 82,
      "outputs": [
        {
          "output_type": "stream",
          "text": [
            "True\n"
          ],
          "name": "stdout"
        }
      ]
    },
    {
      "cell_type": "code",
      "metadata": {
        "id": "SSDGDga76k3Q",
        "colab_type": "code",
        "colab": {}
      },
      "source": [
        "topic=topic.upper()"
      ],
      "execution_count": 0,
      "outputs": []
    },
    {
      "cell_type": "code",
      "metadata": {
        "id": "7XXrx9de6nnw",
        "colab_type": "code",
        "colab": {
          "base_uri": "https://localhost:8080/",
          "height": 34
        },
        "outputId": "90a13885-040d-4c95-ef0b-f376d3235cc0"
      },
      "source": [
        "print(topic.islower())"
      ],
      "execution_count": 86,
      "outputs": [
        {
          "output_type": "stream",
          "text": [
            "False\n"
          ],
          "name": "stdout"
        }
      ]
    },
    {
      "cell_type": "code",
      "metadata": {
        "id": "ckEYhn4g6pm6",
        "colab_type": "code",
        "colab": {
          "base_uri": "https://localhost:8080/",
          "height": 34
        },
        "outputId": "41456324-c266-46a0-b7c2-0caef3d1242b"
      },
      "source": [
        "print(topic.isupper())"
      ],
      "execution_count": 87,
      "outputs": [
        {
          "output_type": "stream",
          "text": [
            "True\n"
          ],
          "name": "stdout"
        }
      ]
    },
    {
      "cell_type": "code",
      "metadata": {
        "id": "qkwr3gMo6uaJ",
        "colab_type": "code",
        "colab": {
          "base_uri": "https://localhost:8080/",
          "height": 34
        },
        "outputId": "071e5285-c71d-445f-9294-3ea9566bf30a"
      },
      "source": [
        "print(topic.find('DATA'))"
      ],
      "execution_count": 88,
      "outputs": [
        {
          "output_type": "stream",
          "text": [
            "14\n"
          ],
          "name": "stdout"
        }
      ]
    },
    {
      "cell_type": "code",
      "metadata": {
        "id": "To38JWv86z-4",
        "colab_type": "code",
        "colab": {
          "base_uri": "https://localhost:8080/",
          "height": 34
        },
        "outputId": "70622514-82bd-4ac6-b577-cc08040abc1a"
      },
      "source": [
        "print(topic.find('AI'))"
      ],
      "execution_count": 89,
      "outputs": [
        {
          "output_type": "stream",
          "text": [
            "-1\n"
          ],
          "name": "stdout"
        }
      ]
    },
    {
      "cell_type": "code",
      "metadata": {
        "id": "1OtvNmVm6-62",
        "colab_type": "code",
        "colab": {
          "base_uri": "https://localhost:8080/",
          "height": 34
        },
        "outputId": "471922bc-b444-4422-a11e-d51becda11e6"
      },
      "source": [
        "print(topic.replace('SCIENCE','Engineering'))"
      ],
      "execution_count": 90,
      "outputs": [
        {
          "output_type": "stream",
          "text": [
            "FOUNDATION OF DATA Engineering\n"
          ],
          "name": "stdout"
        }
      ]
    },
    {
      "cell_type": "code",
      "metadata": {
        "id": "vrXgL_X37IrP",
        "colab_type": "code",
        "colab": {
          "base_uri": "https://localhost:8080/",
          "height": 34
        },
        "outputId": "69936f5f-72b2-4ea5-b26d-f403aa823986"
      },
      "source": [
        "print(55/34)"
      ],
      "execution_count": 91,
      "outputs": [
        {
          "output_type": "stream",
          "text": [
            "1.6176470588235294\n"
          ],
          "name": "stdout"
        }
      ]
    },
    {
      "cell_type": "code",
      "metadata": {
        "id": "4ciDYuUt7SVV",
        "colab_type": "code",
        "colab": {}
      },
      "source": [
        "golden_ratio=55/34"
      ],
      "execution_count": 0,
      "outputs": []
    },
    {
      "cell_type": "code",
      "metadata": {
        "id": "ml6T7iDP7VBT",
        "colab_type": "code",
        "colab": {
          "base_uri": "https://localhost:8080/",
          "height": 34
        },
        "outputId": "21098764-52a2-43eb-a11b-430d281e69cd"
      },
      "source": [
        "print(type(golden_ratio))"
      ],
      "execution_count": 93,
      "outputs": [
        {
          "output_type": "stream",
          "text": [
            "<class 'float'>\n"
          ],
          "name": "stdout"
        }
      ]
    },
    {
      "cell_type": "code",
      "metadata": {
        "id": "9mRQ736f7XRt",
        "colab_type": "code",
        "colab": {
          "base_uri": "https://localhost:8080/",
          "height": 34
        },
        "outputId": "becbbb76-d6b1-41a0-f444-5cf1ead8c8aa"
      },
      "source": [
        "print(golden_ratio.is_integer())"
      ],
      "execution_count": 94,
      "outputs": [
        {
          "output_type": "stream",
          "text": [
            "False\n"
          ],
          "name": "stdout"
        }
      ]
    },
    {
      "cell_type": "code",
      "metadata": {
        "id": "uxzGNEg07hQl",
        "colab_type": "code",
        "colab": {
          "base_uri": "https://localhost:8080/",
          "height": 34
        },
        "outputId": "938e2d98-03b1-4a48-f9bf-6294213aba8f"
      },
      "source": [
        "print(golden_ratio.as_integer_ratio())"
      ],
      "execution_count": 95,
      "outputs": [
        {
          "output_type": "stream",
          "text": [
            "(3642617345667313, 2251799813685248)\n"
          ],
          "name": "stdout"
        }
      ]
    },
    {
      "cell_type": "code",
      "metadata": {
        "id": "_s_5bXcx7nfI",
        "colab_type": "code",
        "colab": {
          "base_uri": "https://localhost:8080/",
          "height": 34
        },
        "outputId": "58a7b06e-f262-403b-d55b-60b70ffecc5e"
      },
      "source": [
        "print(3642617345667313/2251799813685248)"
      ],
      "execution_count": 96,
      "outputs": [
        {
          "output_type": "stream",
          "text": [
            "1.6176470588235294\n"
          ],
          "name": "stdout"
        }
      ]
    },
    {
      "cell_type": "code",
      "metadata": {
        "id": "2pDhoXP77ww7",
        "colab_type": "code",
        "colab": {
          "base_uri": "https://localhost:8080/",
          "height": 51
        },
        "outputId": "1949f6fb-85be-49a0-8a43-b524383be0be"
      },
      "source": [
        "print(55//34)\n",
        "print(55/34)"
      ],
      "execution_count": 97,
      "outputs": [
        {
          "output_type": "stream",
          "text": [
            "1\n",
            "1.6176470588235294\n"
          ],
          "name": "stdout"
        }
      ]
    },
    {
      "cell_type": "code",
      "metadata": {
        "id": "75Wbssqt8LAU",
        "colab_type": "code",
        "colab": {
          "base_uri": "https://localhost:8080/",
          "height": 34
        },
        "outputId": "32ba6103-b8fd-4ba6-f009-d6d74ebe4a3b"
      },
      "source": [
        "print(55%34)"
      ],
      "execution_count": 98,
      "outputs": [
        {
          "output_type": "stream",
          "text": [
            "21\n"
          ],
          "name": "stdout"
        }
      ]
    },
    {
      "cell_type": "code",
      "metadata": {
        "id": "ILXd1pj88UfT",
        "colab_type": "code",
        "colab": {
          "base_uri": "https://localhost:8080/",
          "height": 34
        },
        "outputId": "866de6b0-8581-4efc-c266-f07071110098"
      },
      "source": [
        "print(2**3)"
      ],
      "execution_count": 99,
      "outputs": [
        {
          "output_type": "stream",
          "text": [
            "8\n"
          ],
          "name": "stdout"
        }
      ]
    },
    {
      "cell_type": "markdown",
      "metadata": {
        "id": "cg2_WgVC8v_6",
        "colab_type": "text"
      },
      "source": [
        "# If for while Block"
      ]
    },
    {
      "cell_type": "code",
      "metadata": {
        "id": "NvE7GcVa9ws2",
        "colab_type": "code",
        "colab": {}
      },
      "source": [
        "# hours_per_week=6\n",
        "hours_per_week=6"
      ],
      "execution_count": 0,
      "outputs": []
    },
    {
      "cell_type": "code",
      "metadata": {
        "id": "RDuFfFGJ8XUh",
        "colab_type": "code",
        "colab": {
          "base_uri": "https://localhost:8080/",
          "height": 34
        },
        "outputId": "cdae41b1-01bf-4362-88a5-d01ae0b12fb4"
      },
      "source": [
        "if hours_per_week_int>10:\n",
        "    print(my_name +' you are doing well ')\n"
      ],
      "execution_count": 102,
      "outputs": [
        {
          "output_type": "stream",
          "text": [
            "shubhamraj you are doing well \n"
          ],
          "name": "stdout"
        }
      ]
    },
    {
      "cell_type": "code",
      "metadata": {
        "id": "1nALX4r99doS",
        "colab_type": "code",
        "colab": {
          "base_uri": "https://localhost:8080/",
          "height": 51
        },
        "outputId": "2a5d0767-7198-4c54-f150-240749daf9b8"
      },
      "source": [
        "if hours_per_week>10:\n",
        "     print(my_name +' you are doing well ')\n",
        "print(\"Outside IF\")\n"
      ],
      "execution_count": 107,
      "outputs": [
        {
          "output_type": "stream",
          "text": [
            "shubhamraj you are doing well \n",
            "Outside IF\n"
          ],
          "name": "stdout"
        }
      ]
    },
    {
      "cell_type": "code",
      "metadata": {
        "id": "HxKoCP_a9-V_",
        "colab_type": "code",
        "colab": {
          "base_uri": "https://localhost:8080/",
          "height": 34
        },
        "outputId": "029e8439-4bb3-4b9b-d288-6e54da1b3f7d"
      },
      "source": [
        "if hours_per_week>10:\n",
        "    print(my_name +' you are doing well ')\n",
        "else:\n",
        "    print(my_name + ' you need to study more')"
      ],
      "execution_count": 111,
      "outputs": [
        {
          "output_type": "stream",
          "text": [
            "shubhamraj you need to study more\n"
          ],
          "name": "stdout"
        }
      ]
    },
    {
      "cell_type": "code",
      "metadata": {
        "id": "aZmKPfjR-Rsx",
        "colab_type": "code",
        "colab": {
          "base_uri": "https://localhost:8080/",
          "height": 102
        },
        "outputId": "8cf863f0-288b-4b70-85df-5720deef4383"
      },
      "source": [
        "for i in range(5):\n",
        "    print(i)"
      ],
      "execution_count": 112,
      "outputs": [
        {
          "output_type": "stream",
          "text": [
            "0\n",
            "1\n",
            "2\n",
            "3\n",
            "4\n"
          ],
          "name": "stdout"
        }
      ]
    },
    {
      "cell_type": "code",
      "metadata": {
        "id": "nQGDMj18-m3A",
        "colab_type": "code",
        "colab": {}
      },
      "source": [
        "range?"
      ],
      "execution_count": 0,
      "outputs": []
    },
    {
      "cell_type": "code",
      "metadata": {
        "id": "3otpUU2f-yjk",
        "colab_type": "code",
        "colab": {
          "base_uri": "https://localhost:8080/",
          "height": 102
        },
        "outputId": "d71b0d48-b0dc-4b66-ed4b-a2d68debec7e"
      },
      "source": [
        "for i in range(5):\n",
        "    print(i,i**2)"
      ],
      "execution_count": 114,
      "outputs": [
        {
          "output_type": "stream",
          "text": [
            "0 0\n",
            "1 1\n",
            "2 4\n",
            "3 9\n",
            "4 16\n"
          ],
          "name": "stdout"
        }
      ]
    },
    {
      "cell_type": "code",
      "metadata": {
        "id": "aC9h-to-_nkV",
        "colab_type": "code",
        "colab": {
          "base_uri": "https://localhost:8080/",
          "height": 68
        },
        "outputId": "c28204b6-40a5-4eee-e9c2-0755496d46e5"
      },
      "source": [
        "for i in range(2,5):\n",
        "    print(i,i**2)\n"
      ],
      "execution_count": 115,
      "outputs": [
        {
          "output_type": "stream",
          "text": [
            "2 4\n",
            "3 9\n",
            "4 16\n"
          ],
          "name": "stdout"
        }
      ]
    },
    {
      "cell_type": "code",
      "metadata": {
        "id": "Iv4gsgrq_vDG",
        "colab_type": "code",
        "colab": {
          "base_uri": "https://localhost:8080/",
          "height": 221
        },
        "outputId": "a6e7a226-b3a1-4d88-9774-80e480d673ee"
      },
      "source": [
        "#Fabonicci series\n",
        "a=1\n",
        "b=1\n",
        "print(a)\n",
        "print(b)\n",
        "for i in range(10):\n",
        "    temp=a+b\n",
        "    a=b\n",
        "    b=temp\n",
        "    print(temp)"
      ],
      "execution_count": 119,
      "outputs": [
        {
          "output_type": "stream",
          "text": [
            "1\n",
            "1\n",
            "2\n",
            "3\n",
            "5\n",
            "8\n",
            "13\n",
            "21\n",
            "34\n",
            "55\n",
            "89\n",
            "144\n"
          ],
          "name": "stdout"
        }
      ]
    },
    {
      "cell_type": "code",
      "metadata": {
        "id": "HoI1QmoKAZWd",
        "colab_type": "code",
        "colab": {
          "base_uri": "https://localhost:8080/",
          "height": 306
        },
        "outputId": "fb3f7837-75ca-4aa4-a8d7-08d3e52a7c5a"
      },
      "source": [
        "a=1\n",
        "b=1\n",
        "i=2\n",
        "while b<1729:\n",
        "    temp=a+b\n",
        "    a=b\n",
        "    b=temp\n",
        "    i+=1\n",
        "    print(temp) \n",
        "print(\"printed\",i,'number')   "
      ],
      "execution_count": 122,
      "outputs": [
        {
          "output_type": "stream",
          "text": [
            "2\n",
            "3\n",
            "5\n",
            "8\n",
            "13\n",
            "21\n",
            "34\n",
            "55\n",
            "89\n",
            "144\n",
            "233\n",
            "377\n",
            "610\n",
            "987\n",
            "1597\n",
            "2584\n",
            "printed 18 number\n"
          ],
          "name": "stdout"
        }
      ]
    },
    {
      "cell_type": "markdown",
      "metadata": {
        "id": "nvj1rUzKCD2y",
        "colab_type": "text"
      },
      "source": [
        "# Functions"
      ]
    },
    {
      "cell_type": "code",
      "metadata": {
        "id": "nklkgMn4Beuc",
        "colab_type": "code",
        "colab": {}
      },
      "source": [
        "def fabonnici(pos):\n",
        "    a=1\n",
        "    b=1\n",
        "    for i in range(pos):\n",
        "        temp=a+b\n",
        "        a=b\n",
        "        b=temp\n",
        "    return temp"
      ],
      "execution_count": 0,
      "outputs": []
    },
    {
      "cell_type": "code",
      "metadata": {
        "id": "McZJVAgIC56F",
        "colab_type": "code",
        "colab": {
          "base_uri": "https://localhost:8080/",
          "height": 34
        },
        "outputId": "f8833fd6-ddfb-4a8a-b86a-9cb9ed419c82"
      },
      "source": [
        "print(fabonnici(2))"
      ],
      "execution_count": 129,
      "outputs": [
        {
          "output_type": "stream",
          "text": [
            "3\n"
          ],
          "name": "stdout"
        }
      ]
    },
    {
      "cell_type": "code",
      "metadata": {
        "id": "-drnoUEBC_CP",
        "colab_type": "code",
        "colab": {
          "base_uri": "https://localhost:8080/",
          "height": 34
        },
        "outputId": "360d10b7-fa4e-4aea-fdaf-fb6b03fc8534"
      },
      "source": [
        "print(fabonnici(8),fabonnici(7))"
      ],
      "execution_count": 130,
      "outputs": [
        {
          "output_type": "stream",
          "text": [
            "55 34\n"
          ],
          "name": "stdout"
        }
      ]
    },
    {
      "cell_type": "code",
      "metadata": {
        "id": "jO2pD27kDDHl",
        "colab_type": "code",
        "colab": {
          "base_uri": "https://localhost:8080/",
          "height": 323
        },
        "outputId": "a89b39d5-1ee1-4209-bc67-151f9b5104ec"
      },
      "source": [
        "for i in range(2,20):\n",
        "    ratio=fabonnici(i)/fabonnici(i-1)\n",
        "    print(i,ratio)"
      ],
      "execution_count": 133,
      "outputs": [
        {
          "output_type": "stream",
          "text": [
            "2 1.5\n",
            "3 1.6666666666666667\n",
            "4 1.6\n",
            "5 1.625\n",
            "6 1.6153846153846154\n",
            "7 1.619047619047619\n",
            "8 1.6176470588235294\n",
            "9 1.6181818181818182\n",
            "10 1.6179775280898876\n",
            "11 1.6180555555555556\n",
            "12 1.6180257510729614\n",
            "13 1.6180371352785146\n",
            "14 1.618032786885246\n",
            "15 1.618034447821682\n",
            "16 1.6180338134001253\n",
            "17 1.618034055727554\n",
            "18 1.6180339631667064\n",
            "19 1.6180339985218033\n"
          ],
          "name": "stdout"
        }
      ]
    },
    {
      "cell_type": "code",
      "metadata": {
        "id": "8u-wRBhcDc_h",
        "colab_type": "code",
        "colab": {}
      },
      "source": [
        "def relative_fabonnici(pos,a,b):\n",
        "    for i in range(pos):\n",
        "        temp=a+b\n",
        "        a=b\n",
        "        b=temp\n",
        "    return temp"
      ],
      "execution_count": 0,
      "outputs": []
    },
    {
      "cell_type": "code",
      "metadata": {
        "id": "jUq74PJEEZHO",
        "colab_type": "code",
        "colab": {
          "base_uri": "https://localhost:8080/",
          "height": 34
        },
        "outputId": "8222e11d-a45c-450d-fed5-c238c39c5441"
      },
      "source": [
        "print(relative_fabonnici(3,34,55))"
      ],
      "execution_count": 136,
      "outputs": [
        {
          "output_type": "stream",
          "text": [
            "233\n"
          ],
          "name": "stdout"
        }
      ]
    },
    {
      "cell_type": "code",
      "metadata": {
        "id": "bodlOuZMEb8f",
        "colab_type": "code",
        "colab": {}
      },
      "source": [
        "def fabonnici_ol(pos,a=1,b=1):\n",
        "    for i in range(pos):\n",
        "        temp=a+b\n",
        "        a=b\n",
        "        b=temp\n",
        "    return temp\n",
        "    "
      ],
      "execution_count": 0,
      "outputs": []
    },
    {
      "cell_type": "code",
      "metadata": {
        "id": "PUfuV9VnE4x7",
        "colab_type": "code",
        "colab": {
          "base_uri": "https://localhost:8080/",
          "height": 34
        },
        "outputId": "a1256639-36b1-4ce3-c316-04b0cfae7bc4"
      },
      "source": [
        "print(fabonnici_ol(3))"
      ],
      "execution_count": 138,
      "outputs": [
        {
          "output_type": "stream",
          "text": [
            "5\n"
          ],
          "name": "stdout"
        }
      ]
    },
    {
      "cell_type": "code",
      "metadata": {
        "id": "KSkeScGmE7HC",
        "colab_type": "code",
        "colab": {}
      },
      "source": [
        "#recursive function\n",
        "\n",
        "def fabonnici_recursive(n,a=1,b=1):\n",
        "    if n>1:\n",
        "        return fabonnici_recursive(n-1,b,a+b)\n",
        "    else:\n",
        "        return a+b"
      ],
      "execution_count": 0,
      "outputs": []
    },
    {
      "cell_type": "code",
      "metadata": {
        "id": "DwCeXfMHF1tg",
        "colab_type": "code",
        "colab": {
          "base_uri": "https://localhost:8080/",
          "height": 34
        },
        "outputId": "e198c1b6-8abf-46fb-a82a-5bc4a085af67"
      },
      "source": [
        "print(fabonnici_recursive(4))"
      ],
      "execution_count": 140,
      "outputs": [
        {
          "output_type": "stream",
          "text": [
            "8\n"
          ],
          "name": "stdout"
        }
      ]
    },
    {
      "cell_type": "code",
      "metadata": {
        "id": "ihr6YTiAF-nE",
        "colab_type": "code",
        "colab": {
          "base_uri": "https://localhost:8080/",
          "height": 34
        },
        "outputId": "1ce9f178-0727-45be-89fe-fad6116e5b7e"
      },
      "source": [
        "print(fabonnici_recursive(4,34,55))"
      ],
      "execution_count": 141,
      "outputs": [
        {
          "output_type": "stream",
          "text": [
            "377\n"
          ],
          "name": "stdout"
        }
      ]
    },
    {
      "cell_type": "code",
      "metadata": {
        "id": "jWgBGB_yGFHi",
        "colab_type": "code",
        "colab": {}
      },
      "source": [
        ""
      ],
      "execution_count": 0,
      "outputs": []
    }
  ]
}