{
  "nbformat": 4,
  "nbformat_minor": 0,
  "metadata": {
    "colab": {
      "name": "python_Basic2.ipynb",
      "provenance": [],
      "collapsed_sections": []
    },
    "kernelspec": {
      "name": "python3",
      "display_name": "Python 3"
    }
  },
  "cells": [
    {
      "cell_type": "markdown",
      "metadata": {
        "id": "bciBc75Fkh2e",
        "colab_type": "text"
      },
      "source": [
        "# Comment and Error Handling"
      ]
    },
    {
      "cell_type": "code",
      "metadata": {
        "id": "uNLoeVPPfCFI",
        "colab_type": "code",
        "colab": {}
      },
      "source": [
        "def fabinoci_series(n,a=1,b=1):\n",
        "    \"\"\"\n",
        "    This is an fabonicci series generator function which generate the series\n",
        "    in which n is user input and a,b are initialise to 1\n",
        "    \"\"\"\n",
        "    for i in range(n):\n",
        "        temp=a+b\n",
        "        a=b\n",
        "        b=temp\n",
        "    return temp\n",
        "\n",
        "\n"
      ],
      "execution_count": 0,
      "outputs": []
    },
    {
      "cell_type": "code",
      "metadata": {
        "id": "qqFNTb1Of-ch",
        "colab_type": "code",
        "colab": {}
      },
      "source": [
        "fabinoci_series?\n",
        " #To get the detail about the function"
      ],
      "execution_count": 0,
      "outputs": []
    },
    {
      "cell_type": "code",
      "metadata": {
        "id": "El8bdH7igYQp",
        "colab_type": "code",
        "colab": {}
      },
      "source": [
        "def input_single_float(prompt):\n",
        "    user_input=input(prompt)\n",
        "    try:\n",
        "        output=float(user_input)\n",
        "    except ValueError:\n",
        "        print(\"must be float number\")\n",
        "        output=None\n",
        "    return output\n"
      ],
      "execution_count": 0,
      "outputs": []
    },
    {
      "cell_type": "code",
      "metadata": {
        "id": "VSaeA4KcjFRk",
        "colab_type": "code",
        "outputId": "a683dd64-7749-41ad-a4db-b480aa16e2b9",
        "colab": {
          "base_uri": "https://localhost:8080/",
          "height": 51
        }
      },
      "source": [
        "val=input_single_float('Enter')"
      ],
      "execution_count": 0,
      "outputs": [
        {
          "output_type": "stream",
          "text": [
            "Entern\n",
            "must be float number\n"
          ],
          "name": "stdout"
        }
      ]
    },
    {
      "cell_type": "code",
      "metadata": {
        "id": "wHvY2mzBjHiI",
        "colab_type": "code",
        "outputId": "5a791db4-8e0a-4d39-fdee-eabddeb39297",
        "colab": {
          "base_uri": "https://localhost:8080/",
          "height": 34
        }
      },
      "source": [
        "print(val,type(val))"
      ],
      "execution_count": 0,
      "outputs": [
        {
          "output_type": "stream",
          "text": [
            "None <class 'NoneType'>\n"
          ],
          "name": "stdout"
        }
      ]
    },
    {
      "cell_type": "code",
      "metadata": {
        "id": "vNIi8GRWjbN9",
        "colab_type": "code",
        "colab": {}
      },
      "source": [
        "def input_single_float_inverse(prompt):\n",
        "    user_input=input(prompt)\n",
        "    output=None\n",
        "    try:\n",
        "        output=1/float(user_input)\n",
        "    except ValueError:\n",
        "        print(\"must be float number\")\n",
        "    except ZeroDivisionError:\n",
        "        print(\"must not enter value 0\")\n",
        "    return output"
      ],
      "execution_count": 0,
      "outputs": []
    },
    {
      "cell_type": "code",
      "metadata": {
        "id": "6QiRS7E7jtxw",
        "colab_type": "code",
        "colab": {}
      },
      "source": [
        "input_single_float_inverse(\"enter\")"
      ],
      "execution_count": 0,
      "outputs": []
    },
    {
      "cell_type": "markdown",
      "metadata": {
        "id": "-K1uiBDQkbpQ",
        "colab_type": "text"
      },
      "source": [
        "# List"
      ]
    },
    {
      "cell_type": "code",
      "metadata": {
        "id": "3BtdL0vvj0fG",
        "colab_type": "code",
        "colab": {}
      },
      "source": [
        "course_name=\"Foundation Of Data Science\""
      ],
      "execution_count": 0,
      "outputs": []
    },
    {
      "cell_type": "code",
      "metadata": {
        "id": "9gq5dBnTlM6Q",
        "colab_type": "code",
        "colab": {}
      },
      "source": [
        "word=course_name.split()"
      ],
      "execution_count": 0,
      "outputs": []
    },
    {
      "cell_type": "code",
      "metadata": {
        "id": "sSVKCOrJlPIj",
        "colab_type": "code",
        "colab": {}
      },
      "source": [
        "print(word)"
      ],
      "execution_count": 0,
      "outputs": []
    },
    {
      "cell_type": "code",
      "metadata": {
        "id": "hLlEKBeflQeS",
        "colab_type": "code",
        "colab": {}
      },
      "source": [
        "print(type(word))"
      ],
      "execution_count": 0,
      "outputs": []
    },
    {
      "cell_type": "code",
      "metadata": {
        "id": "YzokpJS7lTWY",
        "colab_type": "code",
        "colab": {}
      },
      "source": [
        "str.split?"
      ],
      "execution_count": 0,
      "outputs": []
    },
    {
      "cell_type": "code",
      "metadata": {
        "id": "VN7_mVGKlU0j",
        "colab_type": "code",
        "colab": {}
      },
      "source": [
        "print(word[2])"
      ],
      "execution_count": 0,
      "outputs": []
    },
    {
      "cell_type": "code",
      "metadata": {
        "id": "Sakl1rnUljKM",
        "colab_type": "code",
        "colab": {}
      },
      "source": [
        "print(type(word[-1]))"
      ],
      "execution_count": 0,
      "outputs": []
    },
    {
      "cell_type": "code",
      "metadata": {
        "id": "opesZh8Glkvu",
        "colab_type": "code",
        "colab": {}
      },
      "source": [
        "print(word[-2])"
      ],
      "execution_count": 0,
      "outputs": []
    },
    {
      "cell_type": "code",
      "metadata": {
        "id": "m0YZ4etTlm4-",
        "colab_type": "code",
        "colab": {}
      },
      "source": [
        "print(word[2:4])"
      ],
      "execution_count": 0,
      "outputs": []
    },
    {
      "cell_type": "code",
      "metadata": {
        "id": "y8-nSQskl6rR",
        "colab_type": "code",
        "colab": {}
      },
      "source": [
        "print(word[2:])"
      ],
      "execution_count": 0,
      "outputs": []
    },
    {
      "cell_type": "code",
      "metadata": {
        "id": "mF5QMx98l8nS",
        "colab_type": "code",
        "colab": {}
      },
      "source": [
        "print(word[:2])"
      ],
      "execution_count": 0,
      "outputs": []
    },
    {
      "cell_type": "code",
      "metadata": {
        "id": "5QZ8DqwfmFow",
        "colab_type": "code",
        "colab": {}
      },
      "source": [
        "new_words=[\"Machine\",\"Learning\"]"
      ],
      "execution_count": 0,
      "outputs": []
    },
    {
      "cell_type": "code",
      "metadata": {
        "id": "WXJYn4B7mPFj",
        "colab_type": "code",
        "colab": {}
      },
      "source": [
        "print(type(new_words))"
      ],
      "execution_count": 0,
      "outputs": []
    },
    {
      "cell_type": "code",
      "metadata": {
        "id": "2Pd2O4zYmR46",
        "colab_type": "code",
        "colab": {}
      },
      "source": [
        "fibonnici_list=[1,1,2,3,5,8,13]"
      ],
      "execution_count": 0,
      "outputs": []
    },
    {
      "cell_type": "code",
      "metadata": {
        "id": "ShY4CzIYmlS0",
        "colab_type": "code",
        "colab": {}
      },
      "source": [
        "print(type(fibonnici_list[0]))"
      ],
      "execution_count": 0,
      "outputs": []
    },
    {
      "cell_type": "code",
      "metadata": {
        "id": "dTl6SimUmrBF",
        "colab_type": "code",
        "colab": {}
      },
      "source": [
        "print(fibonnici_list[0]+10)"
      ],
      "execution_count": 0,
      "outputs": []
    },
    {
      "cell_type": "code",
      "metadata": {
        "id": "r5Dx0cNrmxY8",
        "colab_type": "code",
        "colab": {}
      },
      "source": [
        "for num in fibonnici_list:\n",
        "    print(num)"
      ],
      "execution_count": 0,
      "outputs": []
    },
    {
      "cell_type": "code",
      "metadata": {
        "id": "qCktVr8PnNew",
        "colab_type": "code",
        "colab": {}
      },
      "source": [
        "length=len(fibonnici_list)"
      ],
      "execution_count": 0,
      "outputs": []
    },
    {
      "cell_type": "code",
      "metadata": {
        "id": "N2ueOMVlnSHS",
        "colab_type": "code",
        "colab": {}
      },
      "source": [
        "for i in range(length):\n",
        "    print(i,fibonnici_list[i])\n"
      ],
      "execution_count": 0,
      "outputs": []
    },
    {
      "cell_type": "code",
      "metadata": {
        "id": "6SvSUnmlnaf2",
        "colab_type": "code",
        "colab": {}
      },
      "source": [
        "bmi_record=[\"shubham\",75,1.73,False]"
      ],
      "execution_count": 0,
      "outputs": []
    },
    {
      "cell_type": "code",
      "metadata": {
        "id": "ZPvILghpn0wd",
        "colab_type": "code",
        "colab": {}
      },
      "source": [
        "print(type(bmi_record))"
      ],
      "execution_count": 0,
      "outputs": []
    },
    {
      "cell_type": "code",
      "metadata": {
        "id": "49YJRtydn7Jq",
        "colab_type": "code",
        "colab": {}
      },
      "source": [
        "for item in bmi_record:\n",
        "    print(item,type(item))"
      ],
      "execution_count": 0,
      "outputs": []
    },
    {
      "cell_type": "code",
      "metadata": {
        "id": "fxYrSs17n-Zo",
        "colab_type": "code",
        "colab": {}
      },
      "source": [
        "bmi_record[0]=\"Krishna\""
      ],
      "execution_count": 0,
      "outputs": []
    },
    {
      "cell_type": "code",
      "metadata": {
        "id": "C-whSyUAoIzg",
        "colab_type": "code",
        "colab": {}
      },
      "source": [
        "bmi_record"
      ],
      "execution_count": 0,
      "outputs": []
    },
    {
      "cell_type": "code",
      "metadata": {
        "id": "IytOGRaBoJ38",
        "colab_type": "code",
        "colab": {}
      },
      "source": [
        "bmi_record.append(\"iamliving@unknown,com\")"
      ],
      "execution_count": 0,
      "outputs": []
    },
    {
      "cell_type": "code",
      "metadata": {
        "id": "KN22GI8hoRf0",
        "colab_type": "code",
        "colab": {}
      },
      "source": [
        "for item in bmi_record:\n",
        "    print(item,type(item))"
      ],
      "execution_count": 0,
      "outputs": []
    },
    {
      "cell_type": "markdown",
      "metadata": {
        "id": "NGUFrXONoyos",
        "colab_type": "text"
      },
      "source": [
        "# List Continued"
      ]
    },
    {
      "cell_type": "code",
      "metadata": {
        "id": "H-CPYEp_oYA4",
        "colab_type": "code",
        "colab": {}
      },
      "source": [
        "bmi_dataset=[\n",
        "             [\"krishna\",75,1.43,False],\n",
        "             ['Bhim',120,1.43,True]\n",
        "]"
      ],
      "execution_count": 0,
      "outputs": []
    },
    {
      "cell_type": "code",
      "metadata": {
        "id": "O9kkKC-opEDS",
        "colab_type": "code",
        "colab": {}
      },
      "source": [
        "print(type(bmi_dataset))"
      ],
      "execution_count": 0,
      "outputs": []
    },
    {
      "cell_type": "code",
      "metadata": {
        "id": "WdPPPQWvpGv0",
        "colab_type": "code",
        "colab": {}
      },
      "source": [
        "print(type(bmi_dataset[0]))"
      ],
      "execution_count": 0,
      "outputs": []
    },
    {
      "cell_type": "code",
      "metadata": {
        "id": "U8TP9juMpKQK",
        "colab_type": "code",
        "colab": {}
      },
      "source": [
        "print(bmi_dataset[0][0])"
      ],
      "execution_count": 0,
      "outputs": []
    },
    {
      "cell_type": "code",
      "metadata": {
        "id": "W_vJ9eRspSFK",
        "colab_type": "code",
        "colab": {}
      },
      "source": [
        "print(bmi_dataset[1][2])"
      ],
      "execution_count": 0,
      "outputs": []
    },
    {
      "cell_type": "code",
      "metadata": {
        "id": "26Y-L3fbpiUc",
        "colab_type": "code",
        "colab": {}
      },
      "source": [
        "bmi_dataset[1].append('bim@foodtruck.com')"
      ],
      "execution_count": 0,
      "outputs": []
    },
    {
      "cell_type": "code",
      "metadata": {
        "id": "d8TIASv9qITt",
        "colab_type": "code",
        "colab": {}
      },
      "source": [
        "bmi_dataset\n"
      ],
      "execution_count": 0,
      "outputs": []
    },
    {
      "cell_type": "code",
      "metadata": {
        "id": "DYen6clgqKFv",
        "colab_type": "code",
        "colab": {}
      },
      "source": [
        "bmi_dataset[1][1]=125"
      ],
      "execution_count": 0,
      "outputs": []
    },
    {
      "cell_type": "code",
      "metadata": {
        "id": "NX7t6cpjqVzv",
        "colab_type": "code",
        "colab": {}
      },
      "source": [
        "identity_3=[\n",
        "            [1,0,0],\n",
        "            [0,1,0],\n",
        "            [0,0,1]\n",
        "]"
      ],
      "execution_count": 0,
      "outputs": []
    },
    {
      "cell_type": "code",
      "metadata": {
        "id": "0qswhFsKrFuN",
        "colab_type": "code",
        "colab": {}
      },
      "source": [
        "print(identity_3)"
      ],
      "execution_count": 0,
      "outputs": []
    },
    {
      "cell_type": "code",
      "metadata": {
        "id": "ptSyBvNurHpr",
        "colab_type": "code",
        "colab": {}
      },
      "source": [
        "A=[1,2]"
      ],
      "execution_count": 0,
      "outputs": []
    },
    {
      "cell_type": "code",
      "metadata": {
        "id": "Sn_E6YohrKmD",
        "colab_type": "code",
        "colab": {}
      },
      "source": [
        "B=A"
      ],
      "execution_count": 0,
      "outputs": []
    },
    {
      "cell_type": "code",
      "metadata": {
        "id": "M0NAWAYIrLOC",
        "colab_type": "code",
        "colab": {}
      },
      "source": [
        "print(A)"
      ],
      "execution_count": 0,
      "outputs": []
    },
    {
      "cell_type": "code",
      "metadata": {
        "id": "q9AjQXyYrMRC",
        "colab_type": "code",
        "colab": {}
      },
      "source": [
        "A[0]=A[0]+A[1]"
      ],
      "execution_count": 0,
      "outputs": []
    },
    {
      "cell_type": "code",
      "metadata": {
        "id": "oFdgYUP-rSZH",
        "colab_type": "code",
        "colab": {}
      },
      "source": [
        "print(A)"
      ],
      "execution_count": 0,
      "outputs": []
    },
    {
      "cell_type": "code",
      "metadata": {
        "id": "j5m_vk_RrTcQ",
        "colab_type": "code",
        "colab": {}
      },
      "source": [
        "print(B)"
      ],
      "execution_count": 0,
      "outputs": []
    },
    {
      "cell_type": "code",
      "metadata": {
        "id": "InBm6vJHrXRZ",
        "colab_type": "code",
        "colab": {}
      },
      "source": [
        "A=[1,2]\n",
        "print(A)"
      ],
      "execution_count": 0,
      "outputs": []
    },
    {
      "cell_type": "code",
      "metadata": {
        "id": "uXGjtoAerqbu",
        "colab_type": "code",
        "colab": {}
      },
      "source": [
        "B=[item for item in A]"
      ],
      "execution_count": 0,
      "outputs": []
    },
    {
      "cell_type": "code",
      "metadata": {
        "id": "D2B0YL5Yrxf8",
        "colab_type": "code",
        "colab": {}
      },
      "source": [
        "print(B)"
      ],
      "execution_count": 0,
      "outputs": []
    },
    {
      "cell_type": "code",
      "metadata": {
        "id": "EMtWp0phrzeG",
        "colab_type": "code",
        "colab": {}
      },
      "source": [
        "A[0]=A[0]+A[1]"
      ],
      "execution_count": 0,
      "outputs": []
    },
    {
      "cell_type": "code",
      "metadata": {
        "id": "hbIJX70Dr4EZ",
        "colab_type": "code",
        "colab": {}
      },
      "source": [
        "print(A)"
      ],
      "execution_count": 0,
      "outputs": []
    },
    {
      "cell_type": "code",
      "metadata": {
        "id": "mCsfPYNNr4-Z",
        "colab_type": "code",
        "colab": {}
      },
      "source": [
        "print(B)"
      ],
      "execution_count": 0,
      "outputs": []
    },
    {
      "cell_type": "code",
      "metadata": {
        "id": "97guuP00r6VU",
        "colab_type": "code",
        "colab": {}
      },
      "source": [
        "mat=[\n",
        "     [1,1],\n",
        "     [1,0]\n",
        "]"
      ],
      "execution_count": 0,
      "outputs": []
    },
    {
      "cell_type": "code",
      "metadata": {
        "id": "YnaDTls5sSpQ",
        "colab_type": "code",
        "outputId": "3fe14af7-90f9-47ef-fdbc-47c565729ed6",
        "colab": {
          "base_uri": "https://localhost:8080/",
          "height": 34
        }
      },
      "source": [
        "\"\"\"calclulate mat^n\"\"\""
      ],
      "execution_count": 0,
      "outputs": [
        {
          "output_type": "execute_result",
          "data": {
            "text/plain": [
              "'calclulate mat^n'"
            ]
          },
          "metadata": {
            "tags": []
          },
          "execution_count": 2
        }
      ]
    },
    {
      "cell_type": "code",
      "metadata": {
        "id": "orlY3yE1sUiY",
        "colab_type": "code",
        "colab": {}
      },
      "source": [
        "def matrix_multiply(A,n):\n",
        "    output=A\n",
        "    temp=A\n",
        "    for i in range(n-1):\n",
        "        output[0][0]=A[0][0]*temp[0][0]+A[0][1]*temp[1][0]\n",
        "        output[0][1]=A[0][0]*temp[0][1]+A[0][1]*temp[1][1]\n",
        "        output[1][0]=A[1][0]*temp[0][0]+A[1][1]*temp[1][0]\n",
        "        output[1][1]=A[1][0]*temp[0][1]+A[1][1]*temp[1][1]\n",
        "        temp=output\n",
        "    return output"
      ],
      "execution_count": 0,
      "outputs": []
    },
    {
      "cell_type": "code",
      "metadata": {
        "id": "cpIzHO7qXoOs",
        "colab_type": "code",
        "outputId": "0cef4148-25c5-46ae-aa65-0a291a9b27ad",
        "colab": {
          "base_uri": "https://localhost:8080/",
          "height": 34
        }
      },
      "source": [
        "print(matrix_multiply(mat,3))"
      ],
      "execution_count": 0,
      "outputs": [
        {
          "output_type": "stream",
          "text": [
            "[[640, 29568], [29568, 874617088]]\n"
          ],
          "name": "stdout"
        }
      ]
    },
    {
      "cell_type": "code",
      "metadata": {
        "id": "lx-2MpKOYIc1",
        "colab_type": "code",
        "colab": {}
      },
      "source": [
        "def matrix_multiply(A,n):\n",
        "    output=[item[:] for item in A]\n",
        "    temp=[item[:] for item in A]\n",
        "    for i in range(n-1):\n",
        "        output[0][0]=A[0][0]*temp[0][0]+A[0][1]*temp[1][0]\n",
        "        output[0][1]=A[0][0]*temp[0][1]+A[0][1]*temp[1][1]\n",
        "        output[1][0]=A[1][0]*temp[0][0]+A[1][1]*temp[1][0]\n",
        "        output[1][1]=A[1][0]*temp[0][1]+A[1][1]*temp[1][1]\n",
        "        temp=[item[:] for item in output]\n",
        "    return output"
      ],
      "execution_count": 0,
      "outputs": []
    },
    {
      "cell_type": "code",
      "metadata": {
        "id": "RcE3LYQyuXKg",
        "colab_type": "code",
        "colab": {}
      },
      "source": [
        "mat=[\n",
        "     [1,1],\n",
        "     [1,0]\n",
        "]"
      ],
      "execution_count": 0,
      "outputs": []
    },
    {
      "cell_type": "code",
      "metadata": {
        "id": "ZxiiJNikuM-P",
        "colab_type": "code",
        "outputId": "71b45acd-f17f-4fc6-8799-2a8815a1fb82",
        "colab": {
          "base_uri": "https://localhost:8080/",
          "height": 34
        }
      },
      "source": [
        "print(matrix_multiply(mat,3))"
      ],
      "execution_count": 0,
      "outputs": [
        {
          "output_type": "stream",
          "text": [
            "[[3, 2], [2, 1]]\n"
          ],
          "name": "stdout"
        }
      ]
    },
    {
      "cell_type": "code",
      "metadata": {
        "id": "m9qMFFAPuZAk",
        "colab_type": "code",
        "outputId": "769c31a3-5b3c-4ed5-e1aa-2de82ccfe490",
        "colab": {
          "base_uri": "https://localhost:8080/",
          "height": 187
        }
      },
      "source": [
        "for i in range(10):\n",
        "    output=matrix_multiply(mat,i)\n",
        "    print(i,output[0][0])"
      ],
      "execution_count": 0,
      "outputs": [
        {
          "output_type": "stream",
          "text": [
            "0 1\n",
            "1 1\n",
            "2 2\n",
            "3 3\n",
            "4 5\n",
            "5 8\n",
            "6 13\n",
            "7 21\n",
            "8 34\n",
            "9 55\n"
          ],
          "name": "stdout"
        }
      ]
    },
    {
      "cell_type": "markdown",
      "metadata": {
        "id": "a5Y0DufovyiC",
        "colab_type": "text"
      },
      "source": [
        "# Tuples and Sets"
      ]
    },
    {
      "cell_type": "code",
      "metadata": {
        "id": "aqMT4kNwu356",
        "colab_type": "code",
        "colab": {}
      },
      "source": [
        "bmi_categories=(\"Underweight\",\"Normal\",\"OverWeight\",\"very_overweight\")"
      ],
      "execution_count": 0,
      "outputs": []
    },
    {
      "cell_type": "code",
      "metadata": {
        "id": "moZtJWXY4Mxl",
        "colab_type": "code",
        "outputId": "ff67d396-5be4-4fb4-8af4-48475e512ea6",
        "colab": {
          "base_uri": "https://localhost:8080/",
          "height": 34
        }
      },
      "source": [
        "print(type(bmi_categories))"
      ],
      "execution_count": 0,
      "outputs": [
        {
          "output_type": "stream",
          "text": [
            "<class 'tuple'>\n"
          ],
          "name": "stdout"
        }
      ]
    },
    {
      "cell_type": "code",
      "metadata": {
        "id": "Ehm96egi4RN4",
        "colab_type": "code",
        "outputId": "a84032b8-106c-47ca-f169-0442582bd279",
        "colab": {
          "base_uri": "https://localhost:8080/",
          "height": 34
        }
      },
      "source": [
        "print(bmi_categories[0])"
      ],
      "execution_count": 0,
      "outputs": [
        {
          "output_type": "stream",
          "text": [
            "Underweight\n"
          ],
          "name": "stdout"
        }
      ]
    },
    {
      "cell_type": "code",
      "metadata": {
        "id": "75q7fNqD4Wud",
        "colab_type": "code",
        "outputId": "2df73f52-aa29-41cf-b70e-41ae4a0f01e4",
        "colab": {
          "base_uri": "https://localhost:8080/",
          "height": 34
        }
      },
      "source": [
        "print(bmi_categories[-1])"
      ],
      "execution_count": 0,
      "outputs": [
        {
          "output_type": "stream",
          "text": [
            "very_overweight\n"
          ],
          "name": "stdout"
        }
      ]
    },
    {
      "cell_type": "code",
      "metadata": {
        "id": "InGHStPh4eHT",
        "colab_type": "code",
        "outputId": "1a5531fa-b2f7-4862-c7cd-58d1602c50d2",
        "colab": {
          "base_uri": "https://localhost:8080/",
          "height": 34
        }
      },
      "source": [
        "print(bmi_categories[0:2])"
      ],
      "execution_count": 0,
      "outputs": [
        {
          "output_type": "stream",
          "text": [
            "('Underweight', 'Normal')\n"
          ],
          "name": "stdout"
        }
      ]
    },
    {
      "cell_type": "code",
      "metadata": {
        "id": "-OW53ZZX4hYM",
        "colab_type": "code",
        "outputId": "d31081db-bc2d-4168-c866-91922cf42f47",
        "colab": {
          "base_uri": "https://localhost:8080/",
          "height": 34
        }
      },
      "source": [
        "bmi_categories.index(\"Normal\")"
      ],
      "execution_count": 0,
      "outputs": [
        {
          "output_type": "execute_result",
          "data": {
            "text/plain": [
              "1"
            ]
          },
          "metadata": {
            "tags": []
          },
          "execution_count": 6
        }
      ]
    },
    {
      "cell_type": "code",
      "metadata": {
        "id": "ruRunCAl4xOQ",
        "colab_type": "code",
        "outputId": "3963656d-deda-4d4e-8926-75cc62147342",
        "colab": {
          "base_uri": "https://localhost:8080/",
          "height": 183
        }
      },
      "source": [
        "bmi_categories.index(\"very_underweight\")"
      ],
      "execution_count": 0,
      "outputs": [
        {
          "output_type": "error",
          "ename": "ValueError",
          "evalue": "ignored",
          "traceback": [
            "\u001b[0;31m---------------------------------------------------------------------------\u001b[0m",
            "\u001b[0;31mValueError\u001b[0m                                Traceback (most recent call last)",
            "\u001b[0;32m<ipython-input-7-78d25554410a>\u001b[0m in \u001b[0;36m<module>\u001b[0;34m()\u001b[0m\n\u001b[0;32m----> 1\u001b[0;31m \u001b[0mbmi_categories\u001b[0m\u001b[0;34m.\u001b[0m\u001b[0mindex\u001b[0m\u001b[0;34m(\u001b[0m\u001b[0;34m\"very_underweight\"\u001b[0m\u001b[0;34m)\u001b[0m\u001b[0;34m\u001b[0m\u001b[0;34m\u001b[0m\u001b[0m\n\u001b[0m",
            "\u001b[0;31mValueError\u001b[0m: tuple.index(x): x not in tuple"
          ]
        }
      ]
    },
    {
      "cell_type": "code",
      "metadata": {
        "id": "mokIRkic42VH",
        "colab_type": "code",
        "outputId": "896358f2-2d3d-43d3-ae21-16565803a5ff",
        "colab": {
          "base_uri": "https://localhost:8080/",
          "height": 34
        }
      },
      "source": [
        "print(\"very_underweight\" in bmi_categories)"
      ],
      "execution_count": 0,
      "outputs": [
        {
          "output_type": "stream",
          "text": [
            "False\n"
          ],
          "name": "stdout"
        }
      ]
    },
    {
      "cell_type": "code",
      "metadata": {
        "id": "7IOjpXmI4_MZ",
        "colab_type": "code",
        "outputId": "38cd4ff8-a3bf-4062-b0e3-44a1ba03ce79",
        "colab": {
          "base_uri": "https://localhost:8080/",
          "height": 183
        }
      },
      "source": [
        "bmi_categories[3]=\"VERY overweight\""
      ],
      "execution_count": 0,
      "outputs": [
        {
          "output_type": "error",
          "ename": "TypeError",
          "evalue": "ignored",
          "traceback": [
            "\u001b[0;31m---------------------------------------------------------------------------\u001b[0m",
            "\u001b[0;31mTypeError\u001b[0m                                 Traceback (most recent call last)",
            "\u001b[0;32m<ipython-input-10-879e6d45adec>\u001b[0m in \u001b[0;36m<module>\u001b[0;34m()\u001b[0m\n\u001b[0;32m----> 1\u001b[0;31m \u001b[0mbmi_categories\u001b[0m\u001b[0;34m[\u001b[0m\u001b[0;36m3\u001b[0m\u001b[0;34m]\u001b[0m\u001b[0;34m=\u001b[0m\u001b[0;34m\"VERY overweight\"\u001b[0m\u001b[0;34m\u001b[0m\u001b[0;34m\u001b[0m\u001b[0m\n\u001b[0m",
            "\u001b[0;31mTypeError\u001b[0m: 'tuple' object does not support item assignment"
          ]
        }
      ]
    },
    {
      "cell_type": "code",
      "metadata": {
        "id": "_tQQmwW85QBO",
        "colab_type": "code",
        "outputId": "b69f742b-1bfe-45a3-c955-c6ddf09ca5f0",
        "colab": {
          "base_uri": "https://localhost:8080/",
          "height": 34
        }
      },
      "source": [
        "%%timeit -n1 -r10\n",
        "for i in range(1000000):\n",
        "    my_list=[\"Tuple\",\"are\",\"faster\",\"than\",\"list\"]"
      ],
      "execution_count": 0,
      "outputs": [
        {
          "output_type": "stream",
          "text": [
            "1 loop, best of 10: 66.7 ms per loop\n"
          ],
          "name": "stdout"
        }
      ]
    },
    {
      "cell_type": "code",
      "metadata": {
        "id": "-kHbX6HI5xEh",
        "colab_type": "code",
        "outputId": "155d0dd6-ac06-43c5-c203-b1897e7673a5",
        "colab": {
          "base_uri": "https://localhost:8080/",
          "height": 34
        }
      },
      "source": [
        "%%timeit -n1 -r10\n",
        "for i in range(1000000):\n",
        "    my_tuple=(\"Tuple\",\"are\",\"faster\",\"than\",\"list\")"
      ],
      "execution_count": 0,
      "outputs": [
        {
          "output_type": "stream",
          "text": [
            "1 loop, best of 10: 24.2 ms per loop\n"
          ],
          "name": "stdout"
        }
      ]
    },
    {
      "cell_type": "code",
      "metadata": {
        "id": "GdaVj2PH6zOs",
        "colab_type": "code",
        "colab": {}
      },
      "source": [
        "batsmen={\"Rohit\",\"Virat\",\"Ravindra\",\"Rahul\"}"
      ],
      "execution_count": 0,
      "outputs": []
    },
    {
      "cell_type": "code",
      "metadata": {
        "id": "kAuUYjZY7StT",
        "colab_type": "code",
        "outputId": "4152bc33-1931-4935-b064-ad3ec1627b88",
        "colab": {
          "base_uri": "https://localhost:8080/",
          "height": 34
        }
      },
      "source": [
        "print(type(batsmen))"
      ],
      "execution_count": 0,
      "outputs": [
        {
          "output_type": "stream",
          "text": [
            "<class 'set'>\n"
          ],
          "name": "stdout"
        }
      ]
    },
    {
      "cell_type": "code",
      "metadata": {
        "id": "-UJv1s_f7UYD",
        "colab_type": "code",
        "outputId": "a3db06d6-4c52-4d82-930c-3f99397b9a0e",
        "colab": {
          "base_uri": "https://localhost:8080/",
          "height": 34
        }
      },
      "source": [
        "print(\"Rohit\" in batsmen)"
      ],
      "execution_count": 0,
      "outputs": [
        {
          "output_type": "stream",
          "text": [
            "True\n"
          ],
          "name": "stdout"
        }
      ]
    },
    {
      "cell_type": "code",
      "metadata": {
        "id": "xWY_i5877agZ",
        "colab_type": "code",
        "outputId": "4ba6a1d0-ae65-4a70-9fdf-eb9035b12585",
        "colab": {
          "base_uri": "https://localhost:8080/",
          "height": 183
        }
      },
      "source": [
        "batsmen.index(\"Rohit\")"
      ],
      "execution_count": 0,
      "outputs": [
        {
          "output_type": "error",
          "ename": "AttributeError",
          "evalue": "ignored",
          "traceback": [
            "\u001b[0;31m---------------------------------------------------------------------------\u001b[0m",
            "\u001b[0;31mAttributeError\u001b[0m                            Traceback (most recent call last)",
            "\u001b[0;32m<ipython-input-17-90ac87f4e015>\u001b[0m in \u001b[0;36m<module>\u001b[0;34m()\u001b[0m\n\u001b[0;32m----> 1\u001b[0;31m \u001b[0mbatsmen\u001b[0m\u001b[0;34m.\u001b[0m\u001b[0mindex\u001b[0m\u001b[0;34m(\u001b[0m\u001b[0;34m\"Rohit\"\u001b[0m\u001b[0;34m)\u001b[0m\u001b[0;34m\u001b[0m\u001b[0;34m\u001b[0m\u001b[0m\n\u001b[0m",
            "\u001b[0;31mAttributeError\u001b[0m: 'set' object has no attribute 'index'"
          ]
        }
      ]
    },
    {
      "cell_type": "code",
      "metadata": {
        "id": "efSfmZYL7pAG",
        "colab_type": "code",
        "colab": {}
      },
      "source": [
        "bowler={\"Ishant\",\"Bumrah\",\"Ravindra\"}"
      ],
      "execution_count": 0,
      "outputs": []
    },
    {
      "cell_type": "code",
      "metadata": {
        "id": "dPzTfgK87vGB",
        "colab_type": "code",
        "outputId": "73f97f72-a55b-48f8-e6b0-a07738055db3",
        "colab": {
          "base_uri": "https://localhost:8080/",
          "height": 34
        }
      },
      "source": [
        "print(type(bowler))"
      ],
      "execution_count": 0,
      "outputs": [
        {
          "output_type": "stream",
          "text": [
            "<class 'set'>\n"
          ],
          "name": "stdout"
        }
      ]
    },
    {
      "cell_type": "code",
      "metadata": {
        "id": "-gdic_Ui7xSf",
        "colab_type": "code",
        "colab": {}
      },
      "source": [
        "allrownder=batsmen.intersection(bowler)"
      ],
      "execution_count": 0,
      "outputs": []
    },
    {
      "cell_type": "code",
      "metadata": {
        "id": "-OIt4Pt5747Z",
        "colab_type": "code",
        "outputId": "ecd6a8e4-38b0-4bfc-8d16-9d3ad39551ea",
        "colab": {
          "base_uri": "https://localhost:8080/",
          "height": 34
        }
      },
      "source": [
        "print(allrownder)"
      ],
      "execution_count": 0,
      "outputs": [
        {
          "output_type": "stream",
          "text": [
            "{'Ravindra'}\n"
          ],
          "name": "stdout"
        }
      ]
    },
    {
      "cell_type": "code",
      "metadata": {
        "id": "FONfvv0376qI",
        "colab_type": "code",
        "colab": {}
      },
      "source": [
        "players=batsmen.union(bowler)"
      ],
      "execution_count": 0,
      "outputs": []
    },
    {
      "cell_type": "code",
      "metadata": {
        "id": "Fw5F1uVI8L8A",
        "colab_type": "code",
        "outputId": "db13e355-b956-4542-87ef-97ebb1cc4b66",
        "colab": {
          "base_uri": "https://localhost:8080/",
          "height": 34
        }
      },
      "source": [
        "print(players)"
      ],
      "execution_count": 0,
      "outputs": [
        {
          "output_type": "stream",
          "text": [
            "{'Ravindra', 'Ishant', 'Virat', 'Bumrah', 'Rohit', 'Rahul'}\n"
          ],
          "name": "stdout"
        }
      ]
    },
    {
      "cell_type": "code",
      "metadata": {
        "id": "A_gG3hIV8NVm",
        "colab_type": "code",
        "colab": {}
      },
      "source": [
        "bowlers={\"Ishant\",\"Bumrah\",\"Ravindra\",\"Bumrah\"}"
      ],
      "execution_count": 0,
      "outputs": []
    },
    {
      "cell_type": "code",
      "metadata": {
        "id": "wLsr8TiE8WqK",
        "colab_type": "code",
        "outputId": "d201fce5-8a75-4587-d584-4172f8ed7151",
        "colab": {
          "base_uri": "https://localhost:8080/",
          "height": 34
        }
      },
      "source": [
        "print(bowlers)"
      ],
      "execution_count": 0,
      "outputs": [
        {
          "output_type": "stream",
          "text": [
            "{'Ishant', 'Ravindra', 'Bumrah'}\n"
          ],
          "name": "stdout"
        }
      ]
    },
    {
      "cell_type": "code",
      "metadata": {
        "id": "MKB8o7OG8YEq",
        "colab_type": "code",
        "outputId": "30514e29-222c-4f06-c796-932db36eaf13",
        "colab": {
          "base_uri": "https://localhost:8080/",
          "height": 34
        }
      },
      "source": [
        "%%timeit -n1 -r10\n",
        "myList=list(range(1000))\n",
        "for i in range(10000):\n",
        "    p=1947 in myList"
      ],
      "execution_count": 0,
      "outputs": [
        {
          "output_type": "stream",
          "text": [
            "1 loop, best of 10: 110 ms per loop\n"
          ],
          "name": "stdout"
        }
      ]
    },
    {
      "cell_type": "code",
      "metadata": {
        "id": "HsIoMCs_9KZA",
        "colab_type": "code",
        "outputId": "ff616c94-22b2-44e9-fca9-e670892cd702",
        "colab": {
          "base_uri": "https://localhost:8080/",
          "height": 34
        }
      },
      "source": [
        "%%timeit -n1 -r10\n",
        "mytuple=tuple(range(1000))\n",
        "for i in range(10000):\n",
        "    p=1947 in mytuple"
      ],
      "execution_count": 0,
      "outputs": [
        {
          "output_type": "stream",
          "text": [
            "1 loop, best of 10: 110 ms per loop\n"
          ],
          "name": "stdout"
        }
      ]
    },
    {
      "cell_type": "code",
      "metadata": {
        "id": "a-pECUq79UPt",
        "colab_type": "code",
        "outputId": "553e42de-36e9-4fe0-d667-9bedc84e8283",
        "colab": {
          "base_uri": "https://localhost:8080/",
          "height": 71
        }
      },
      "source": [
        "%%timeit -n1 -r10\n",
        "myset=set(range(1000))\n",
        "for i in range(10000):\n",
        "    p=1947 in myset"
      ],
      "execution_count": 0,
      "outputs": [
        {
          "output_type": "stream",
          "text": [
            "The slowest run took 4.45 times longer than the fastest. This could mean that an intermediate result is being cached.\n",
            "1 loop, best of 10: 392 µs per loop\n"
          ],
          "name": "stdout"
        }
      ]
    },
    {
      "cell_type": "markdown",
      "metadata": {
        "id": "rbuDloEo-IKA",
        "colab_type": "text"
      },
      "source": [
        "# Dictionaries"
      ]
    },
    {
      "cell_type": "code",
      "metadata": {
        "id": "MTqlSGqR9iPF",
        "colab_type": "code",
        "colab": {}
      },
      "source": [
        "bmi_dataset=[\n",
        "             [\"krishna\",75,1.43,False],\n",
        "             ['Bhim',120,1.43,True]\n",
        "]"
      ],
      "execution_count": 0,
      "outputs": []
    },
    {
      "cell_type": "code",
      "metadata": {
        "id": "PQmChbka_A-n",
        "colab_type": "code",
        "colab": {}
      },
      "source": [
        "bmi_record={\n",
        "    \"name\":\"Krishna\",\n",
        "    \"Weight\":75,\n",
        "    \"Height\":1.43,\n",
        "    \"is_overweight\":False\n",
        "}"
      ],
      "execution_count": 0,
      "outputs": []
    },
    {
      "cell_type": "code",
      "metadata": {
        "id": "xBUPa9-B_ly7",
        "colab_type": "code",
        "outputId": "b7939b99-234d-484f-ec71-c9b2135c84b1",
        "colab": {
          "base_uri": "https://localhost:8080/",
          "height": 34
        }
      },
      "source": [
        "bmi_record[\"Height\"]"
      ],
      "execution_count": 0,
      "outputs": [
        {
          "output_type": "execute_result",
          "data": {
            "text/plain": [
              "1.43"
            ]
          },
          "metadata": {
            "tags": []
          },
          "execution_count": 32
        }
      ]
    },
    {
      "cell_type": "code",
      "metadata": {
        "id": "jQc42HYb_rjY",
        "colab_type": "code",
        "colab": {}
      },
      "source": [
        "bmi_record['email']='krishna@outlp.com'"
      ],
      "execution_count": 0,
      "outputs": []
    },
    {
      "cell_type": "code",
      "metadata": {
        "id": "TFs3EuyH_372",
        "colab_type": "code",
        "outputId": "5908a4f1-377f-4df5-ebe7-0b65ee0c437f",
        "colab": {
          "base_uri": "https://localhost:8080/",
          "height": 54
        }
      },
      "source": [
        "print(bmi_record)"
      ],
      "execution_count": 0,
      "outputs": [
        {
          "output_type": "stream",
          "text": [
            "{'name': 'Krishna', 'Weight': 75, 'Height': 1.43, 'is_overweight': False, 'email': 'krishna@outlp.com'}\n"
          ],
          "name": "stdout"
        }
      ]
    },
    {
      "cell_type": "code",
      "metadata": {
        "id": "1P-FgV9n_8DF",
        "colab_type": "code",
        "outputId": "a36adf8c-8564-4858-cd57-8b0cdcbf0e19",
        "colab": {
          "base_uri": "https://localhost:8080/",
          "height": 102
        }
      },
      "source": [
        "for key in bmi_record:\n",
        "    print(key,\":\",bmi_record[key])"
      ],
      "execution_count": 0,
      "outputs": [
        {
          "output_type": "stream",
          "text": [
            "name : Krishna\n",
            "Weight : 75\n",
            "Height : 1.43\n",
            "is_overweight : False\n",
            "email : krishna@outlp.com\n"
          ],
          "name": "stdout"
        }
      ]
    },
    {
      "cell_type": "code",
      "metadata": {
        "id": "ePWNZXE2AQ5x",
        "colab_type": "code",
        "outputId": "9476bda0-da51-4f5c-aa16-f5426368f8cf",
        "colab": {
          "base_uri": "https://localhost:8080/",
          "height": 34
        }
      },
      "source": [
        "print(bmi_record.keys())"
      ],
      "execution_count": 0,
      "outputs": [
        {
          "output_type": "stream",
          "text": [
            "dict_keys(['name', 'Weight', 'Height', 'is_overweight', 'email'])\n"
          ],
          "name": "stdout"
        }
      ]
    },
    {
      "cell_type": "code",
      "metadata": {
        "id": "XdM5QKNOAnLC",
        "colab_type": "code",
        "colab": {}
      },
      "source": [
        "bmi_record1={\n",
        "     \"name\":\"Bhim\",\n",
        "    \"Weight\":120,\n",
        "    \"Height\":1.43,\n",
        "    \"is_overweight\":True,\n",
        "    \"email\":\"beem@foodtruck.com\"\n",
        "}"
      ],
      "execution_count": 0,
      "outputs": []
    },
    {
      "cell_type": "code",
      "metadata": {
        "id": "AVu3Xt1jBLDV",
        "colab_type": "code",
        "colab": {}
      },
      "source": [
        "bmi_datasets=[bmi_record,bmi_record1]"
      ],
      "execution_count": 0,
      "outputs": []
    },
    {
      "cell_type": "code",
      "metadata": {
        "id": "7PFxnSCgBQXM",
        "colab_type": "code",
        "outputId": "b12a8a35-c883-4984-fac0-38c0d96e41a4",
        "colab": {
          "base_uri": "https://localhost:8080/",
          "height": 187
        }
      },
      "source": [
        "bmi_datasets"
      ],
      "execution_count": 0,
      "outputs": [
        {
          "output_type": "execute_result",
          "data": {
            "text/plain": [
              "[{'Height': 1.43,\n",
              "  'Weight': 75,\n",
              "  'email': 'krishna@outlp.com',\n",
              "  'is_overweight': False,\n",
              "  'name': 'Krishna'},\n",
              " {'Height': 1.43,\n",
              "  'Weight': 120,\n",
              "  'email': 'beem@foodtruck.com',\n",
              "  'is_overweight': True,\n",
              "  'name': 'Bhim'}]"
            ]
          },
          "metadata": {
            "tags": []
          },
          "execution_count": 40
        }
      ]
    },
    {
      "cell_type": "code",
      "metadata": {
        "id": "uzFMkbtGBSwj",
        "colab_type": "code",
        "outputId": "3245f22b-02aa-4170-d23b-0916d6fa606b",
        "colab": {
          "base_uri": "https://localhost:8080/",
          "height": 34
        }
      },
      "source": [
        "print(type(bmi_datasets))"
      ],
      "execution_count": 0,
      "outputs": [
        {
          "output_type": "stream",
          "text": [
            "<class 'list'>\n"
          ],
          "name": "stdout"
        }
      ]
    },
    {
      "cell_type": "code",
      "metadata": {
        "id": "_HqX54cJBW4k",
        "colab_type": "code",
        "outputId": "464c907b-a1bf-49ab-d18d-ccd63f3992b3",
        "colab": {
          "base_uri": "https://localhost:8080/",
          "height": 34
        }
      },
      "source": [
        "print(type(bmi_datasets[0]))"
      ],
      "execution_count": 0,
      "outputs": [
        {
          "output_type": "stream",
          "text": [
            "<class 'dict'>\n"
          ],
          "name": "stdout"
        }
      ]
    },
    {
      "cell_type": "code",
      "metadata": {
        "id": "lLMvt43ABetO",
        "colab_type": "code",
        "colab": {}
      },
      "source": [
        "poi={\n",
        "    \"Mahabalipuram\":\"12°36′59″N 80°11′58″E\",\n",
        "     \"Tajmahal\":\"27°10′30″N 78°02′31″E\",\n",
        "     \"RedFort\":\"28.656°N 77.241°E\",\n",
        "     \"KanyaKumari\":\"8.084°N 77.546°E\"\n",
        "}"
      ],
      "execution_count": 0,
      "outputs": []
    },
    {
      "cell_type": "code",
      "metadata": {
        "id": "WcvY9ubEHe7a",
        "colab_type": "code",
        "outputId": "0ca7bd85-79a5-4041-a615-ca1d08d31446",
        "colab": {
          "base_uri": "https://localhost:8080/",
          "height": 34
        }
      },
      "source": [
        "textenter=input(\"\")"
      ],
      "execution_count": 0,
      "outputs": [
        {
          "output_type": "stream",
          "text": [
            "I went to Tajmahal\n"
          ],
          "name": "stdout"
        }
      ]
    },
    {
      "cell_type": "code",
      "metadata": {
        "id": "dWLzrLoYHimz",
        "colab_type": "code",
        "colab": {}
      },
      "source": [
        "word=textenter.split()"
      ],
      "execution_count": 0,
      "outputs": []
    },
    {
      "cell_type": "code",
      "metadata": {
        "id": "epAsxTGvHq-t",
        "colab_type": "code",
        "outputId": "f6525442-ab67-48f5-91c2-af1076cb8bcb",
        "colab": {
          "base_uri": "https://localhost:8080/",
          "height": 34
        }
      },
      "source": [
        "word"
      ],
      "execution_count": 0,
      "outputs": [
        {
          "output_type": "execute_result",
          "data": {
            "text/plain": [
              "['I', 'went', 'to', 'Tajmahal']"
            ]
          },
          "metadata": {
            "tags": []
          },
          "execution_count": 47
        }
      ]
    },
    {
      "cell_type": "code",
      "metadata": {
        "id": "afg8S0J2Hr7_",
        "colab_type": "code",
        "outputId": "071af722-0cb6-48b2-e252-542725ed6594",
        "colab": {
          "base_uri": "https://localhost:8080/",
          "height": 34
        }
      },
      "source": [
        "words=''\n",
        "for item in word:\n",
        "    if item in poi:\n",
        "        words+=poi[item]\n",
        "    else:\n",
        "        words+=item\n",
        "    words+=\" \"\n",
        "print(words)"
      ],
      "execution_count": 0,
      "outputs": [
        {
          "output_type": "stream",
          "text": [
            "I went to 27°10′30″N 78°02′31″E \n"
          ],
          "name": "stdout"
        }
      ]
    },
    {
      "cell_type": "markdown",
      "metadata": {
        "id": "-sefxqXyJ7tZ",
        "colab_type": "text"
      },
      "source": [
        "# Files"
      ]
    },
    {
      "cell_type": "code",
      "metadata": {
        "id": "PuSHaVivICbe",
        "colab_type": "code",
        "colab": {}
      },
      "source": [
        "f=open('file.txt','r')"
      ],
      "execution_count": 0,
      "outputs": []
    },
    {
      "cell_type": "code",
      "metadata": {
        "id": "EBtgqCqhLYCu",
        "colab_type": "code",
        "outputId": "484a097f-bd4f-454b-adfd-4226c243870c",
        "colab": {
          "base_uri": "https://localhost:8080/",
          "height": 34
        }
      },
      "source": [
        "print(f)"
      ],
      "execution_count": 0,
      "outputs": [
        {
          "output_type": "stream",
          "text": [
            "<_io.TextIOWrapper name='file.txt' mode='r' encoding='UTF-8'>\n"
          ],
          "name": "stdout"
        }
      ]
    },
    {
      "cell_type": "code",
      "metadata": {
        "id": "-qdI2lwJLZiY",
        "colab_type": "code",
        "colab": {}
      },
      "source": [
        "output=f.read()"
      ],
      "execution_count": 0,
      "outputs": []
    },
    {
      "cell_type": "code",
      "metadata": {
        "id": "fBOau-1yLe7I",
        "colab_type": "code",
        "outputId": "ad7498c5-d8d6-461c-a446-680e19b7bcc0",
        "colab": {
          "base_uri": "https://localhost:8080/",
          "height": 71
        }
      },
      "source": [
        "print(output)"
      ],
      "execution_count": 0,
      "outputs": [
        {
          "output_type": "stream",
          "text": [
            "Hello People how are you doing well.As i have been here for a while its a journey that neve end. so we have to go forward the life.\n",
            "\n"
          ],
          "name": "stdout"
        }
      ]
    },
    {
      "cell_type": "code",
      "metadata": {
        "id": "FE020xcnLgXM",
        "colab_type": "code",
        "colab": {}
      },
      "source": [
        "f=open('file.txt','r')\n",
        "out_line=f.readline()"
      ],
      "execution_count": 0,
      "outputs": []
    },
    {
      "cell_type": "code",
      "metadata": {
        "id": "vxe6nI_qLzW6",
        "colab_type": "code",
        "outputId": "ecea3016-c61e-40ae-a2d6-01b1307aa904",
        "colab": {
          "base_uri": "https://localhost:8080/",
          "height": 71
        }
      },
      "source": [
        "print(out_line)"
      ],
      "execution_count": 0,
      "outputs": [
        {
          "output_type": "stream",
          "text": [
            "Hello People how are you doing well.As i have been here for a while its a journey that neve end. so we have to go forward the life.\n",
            "\n"
          ],
          "name": "stdout"
        }
      ]
    },
    {
      "cell_type": "code",
      "metadata": {
        "id": "sdTv3GpvL1et",
        "colab_type": "code",
        "colab": {}
      },
      "source": [
        "f=open('file.txt','r')\n",
        "out_li=f.readlines()"
      ],
      "execution_count": 0,
      "outputs": []
    },
    {
      "cell_type": "code",
      "metadata": {
        "id": "mARR393TMIrA",
        "colab_type": "code",
        "outputId": "784acb3f-408f-4b42-854c-4f00b585a41e",
        "colab": {
          "base_uri": "https://localhost:8080/",
          "height": 54
        }
      },
      "source": [
        "print(out_li)"
      ],
      "execution_count": 0,
      "outputs": [
        {
          "output_type": "stream",
          "text": [
            "['Hello People how are you doing well.As i have been here for a while its a journey that neve end. so we have to go forward the life.\\n']\n"
          ],
          "name": "stdout"
        }
      ]
    },
    {
      "cell_type": "code",
      "metadata": {
        "id": "0TtKJRz2MNIb",
        "colab_type": "code",
        "colab": {}
      },
      "source": [
        "f.close()"
      ],
      "execution_count": 0,
      "outputs": []
    },
    {
      "cell_type": "code",
      "metadata": {
        "id": "jQP2SCFaMYU5",
        "colab_type": "code",
        "outputId": "7a6fe98e-e777-4947-f8c8-9ee9c3b23345",
        "colab": {
          "base_uri": "https://localhost:8080/",
          "height": 183
        }
      },
      "source": [
        "out_li=f.readlines()"
      ],
      "execution_count": 0,
      "outputs": [
        {
          "output_type": "error",
          "ename": "ValueError",
          "evalue": "ignored",
          "traceback": [
            "\u001b[0;31m---------------------------------------------------------------------------\u001b[0m",
            "\u001b[0;31mValueError\u001b[0m                                Traceback (most recent call last)",
            "\u001b[0;32m<ipython-input-73-09255c38f638>\u001b[0m in \u001b[0;36m<module>\u001b[0;34m()\u001b[0m\n\u001b[0;32m----> 1\u001b[0;31m \u001b[0mout_li\u001b[0m\u001b[0;34m=\u001b[0m\u001b[0mf\u001b[0m\u001b[0;34m.\u001b[0m\u001b[0mreadlines\u001b[0m\u001b[0;34m(\u001b[0m\u001b[0;34m)\u001b[0m\u001b[0;34m\u001b[0m\u001b[0;34m\u001b[0m\u001b[0m\n\u001b[0m",
            "\u001b[0;31mValueError\u001b[0m: I/O operation on closed file."
          ]
        }
      ]
    },
    {
      "cell_type": "code",
      "metadata": {
        "id": "MiZs7FBdMaCu",
        "colab_type": "code",
        "outputId": "5b89cc07-3896-420e-acfa-3b5a6b3a4d6e",
        "colab": {
          "base_uri": "https://localhost:8080/",
          "height": 51
        }
      },
      "source": [
        "with open('file.txt','r') as f:\n",
        "    outputlines=f.readline()\n",
        "    print(outputlines)"
      ],
      "execution_count": 0,
      "outputs": [
        {
          "output_type": "stream",
          "text": [
            "Hello People how are you doing well.As i have been here for a while its a journey that neve end. so we have to go forward the life.\n",
            "\n"
          ],
          "name": "stdout"
        }
      ]
    },
    {
      "cell_type": "code",
      "metadata": {
        "id": "9khl5ZvDM0hj",
        "colab_type": "code",
        "outputId": "a944f9bb-9b54-4aad-fa69-adad7db12b2d",
        "colab": {
          "base_uri": "https://localhost:8080/",
          "height": 163
        }
      },
      "source": [
        "outputlines=f.readline()"
      ],
      "execution_count": 0,
      "outputs": [
        {
          "output_type": "error",
          "ename": "ValueError",
          "evalue": "ignored",
          "traceback": [
            "\u001b[0;31m---------------------------------------------------------------------------\u001b[0m",
            "\u001b[0;31mValueError\u001b[0m                                Traceback (most recent call last)",
            "\u001b[0;32m<ipython-input-75-ee5e98cf5de5>\u001b[0m in \u001b[0;36m<module>\u001b[0;34m()\u001b[0m\n\u001b[0;32m----> 1\u001b[0;31m \u001b[0moutputlines\u001b[0m\u001b[0;34m=\u001b[0m\u001b[0mf\u001b[0m\u001b[0;34m.\u001b[0m\u001b[0mreadline\u001b[0m\u001b[0;34m(\u001b[0m\u001b[0;34m)\u001b[0m\u001b[0;34m\u001b[0m\u001b[0;34m\u001b[0m\u001b[0m\n\u001b[0m",
            "\u001b[0;31mValueError\u001b[0m: I/O operation on closed file."
          ]
        }
      ]
    },
    {
      "cell_type": "code",
      "metadata": {
        "id": "2YEH6IjMM4kD",
        "colab_type": "code",
        "outputId": "6c105e37-cbbb-4fc9-a059-5e9c6e89930c",
        "colab": {
          "base_uri": "https://localhost:8080/",
          "height": 34
        }
      },
      "source": [
        "f=open('file.txt','r')\n",
        "out_li1=f.readlines()\n",
        "print(out_li1)\n",
        "f.close()"
      ],
      "execution_count": 0,
      "outputs": [
        {
          "output_type": "stream",
          "text": [
            "['Hello People how are you doing well.As i have been here for a while its a journey that neve end. so we have to go forward the life.\\n']\n"
          ],
          "name": "stdout"
        }
      ]
    },
    {
      "cell_type": "code",
      "metadata": {
        "id": "BPikEIuJNR61",
        "colab_type": "code",
        "outputId": "2ddba806-88b0-481a-de65-61949b153cf7",
        "colab": {
          "base_uri": "https://localhost:8080/",
          "height": 34
        }
      },
      "source": [
        "for l in out_li1:\n",
        "    print(l.strip())"
      ],
      "execution_count": 0,
      "outputs": [
        {
          "output_type": "stream",
          "text": [
            "Hello People how are you doing well.As i have been here for a while its a journey that neve end. so we have to go forward the life.\n"
          ],
          "name": "stdout"
        }
      ]
    },
    {
      "cell_type": "code",
      "metadata": {
        "id": "eYJNlNiZNcsP",
        "colab_type": "code",
        "colab": {}
      },
      "source": [
        "out_f=open('fav.txt','w')"
      ],
      "execution_count": 0,
      "outputs": []
    },
    {
      "cell_type": "code",
      "metadata": {
        "id": "FgxO0CRKOFX1",
        "colab_type": "code",
        "colab": {}
      },
      "source": [
        "out_f.writelines(out_li1[0])"
      ],
      "execution_count": 0,
      "outputs": []
    },
    {
      "cell_type": "code",
      "metadata": {
        "id": "zpszhc-DOMSt",
        "colab_type": "code",
        "colab": {}
      },
      "source": [
        "out_f.close()"
      ],
      "execution_count": 0,
      "outputs": []
    },
    {
      "cell_type": "code",
      "metadata": {
        "id": "h0MKcILYOdNs",
        "colab_type": "code",
        "colab": {}
      },
      "source": [
        ""
      ],
      "execution_count": 0,
      "outputs": []
    }
  ]
}